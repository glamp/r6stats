{
 "cells": [
  {
   "cell_type": "markdown",
   "metadata": {},
   "source": [
    "### Ranking System in Rainbow Six: Siege\n",
    "\n",
    "[Matchmaking Rating and Ranks](https://rainbow6.ubisoft.com/siege/en-us/news/152-277344-16/matchmaking-rating-and-ranks \"Ubisoft - Matchmaking Rating and Ranks\")\n",
    "\n",
    "#### Progression\n",
    "\n",
    "R6 players earn experience points (`xp`) for various in-game actions. Killing enemies, rescuing friendlies, setting up defenses, providing intelligence to others on his/her team, etc.\n",
    "\n",
    "Earning `xp` allows players to reach higher \"Clearance Levels\" (`levels`) which grant you access to more in-game content. For example, the Ranked game mode is not available to players below Clearance Level 20. Since Clearance Level is publicly displayed to other players in-game, achieving a high Clearance Level can be a type of status symbol. \n",
    "\n",
    "* **xp**: total experience points earned\n",
    "* **level**: a high-level approximation of a player's skill\n",
    "\n",
    "#### Game Mode Stats\n",
    "\n",
    "Game Mode Stats describe how successful a player is in a particular game mode (casual/ranked).\n",
    "\n",
    "* **playtime**: minutes of playtime in a given game mode\n",
    "* **kd**: Kill/Death ratio equals the number of kills the player has scored life-to-date divided by the number of deaths suffered\n",
    "* **kills**: number of times a player has killed an enemy\n",
    "* **deaths**: number of times a player was killed by enemies, suicide, or friendly-fire\n",
    "* **wins**: number of games won\n",
    "* **losses**: number of games lost\n",
    "* **wlr**: ratio of wins to losses\n",
    "* **has_played**: True/False indicating whether a player has ever played a particular game mode (casual/ranked)\n",
    "\n",
    "#### Gameplay Stats\n",
    "\n",
    "Gameplay stats give us a robust portrait of a player's play style (e.g. passive/defensive vs. aggressive/offensive). These can be useful in discovering archetypical profiles of how players play the game.\n",
    "\n",
    "These track various in-actions taken by each player such as movement frequency, weapon or gear use, or supportive actions taken such as setting up defenses to protect an objective or help teammates. \n",
    "\n",
    "* **assists**: an assist occurs when a player does damage to an opponent who is later killed by a teammate\n",
    "* **barricades_built**: barricades are obstacles placed in doorways and windows to deny the enemy lines-of-sight and slow the approach of enemy players\n",
    "* **bullets_fired**: number of bullets fired\n",
    "* **bullets_hit**: number of bullets that hit an enemy player\n",
    "* **headshots**: number of bullets that hit an enemy player above the neck. In Rainbow Six, headshots result in an immediate kill regardless of the weapon used.\n",
    "* **melee_kills**: number of close-range kills using a knife attack rather than a player's primary or secondary weapon\n",
    "* **penetration_kills**: number of kills resulting from gunfire through walls or other obstacles\n",
    "* **reinforcements_deployed**: on defense, each player receives 2 bulletproof reinforcements which can be placed on walls. this measure describes the number of such reinforcements a player has used.\n",
    "* **revives**: number of times a player has rescued a \"downed\" or wounded comrade.\n",
    "* **steps_moved**: number of steps taken in-game\n",
    "* **suicides**: number of times a player has accidentally killed him/herself\n",
    "\n",
    "\n",
    "#### Calculated Measures\n",
    "\n",
    "We'll also calculate some additional measures that are useful for analysing gameplay data.\n",
    "\n",
    "* **accuracy**: ratio of bullets that hit a target / total bullets fired across both game modes combined\n",
    "* **total playtime**: sum of playtime for both game modes in seconds\n",
    "* **xp per minute**: xp earned / global playtime\n",
    "* **rounds played**: sum of wins and losses for both game modes combined (i.e. ranked wins + ranked losses + casual wins + casual losses)\n",
    "* **support actions**: total number of support actions taken for each game mode\n",
    "* **dpm**: deaths per minute of playtime\n",
    "* **kpm**: kills per minute of playtime"
   ]
  },
  {
   "cell_type": "code",
   "execution_count": 1,
   "metadata": {
    "collapsed": true
   },
   "outputs": [],
   "source": [
    "import sys\n",
    "import os\n",
    "import numpy as np\n",
    "import pandas as pd\n",
    "import matplotlib.pyplot as plt"
   ]
  },
  {
   "cell_type": "markdown",
   "metadata": {},
   "source": [
    "[Game Analytics](https://books.google.com/books?id=-guHadEPrFcC&lpg=PA227&ots=lUgpjhl2LI&dq=normalize%20player%20stats%20for%20minutes%20playtime&pg=PA227#v=onepage&q=normalize%20player%20stats%20for%20minutes%20playtime&f=false)\n",
    "\n",
    "Game Analytics: Maximizing the Value of Player Data\n",
    "edited by Magy Seif El-Nasr, Anders Drachen, Alessandro Canossa\n",
    "\n",
    "[what is game telemetry](http://www.gameanalytics.com/blog/what-is-game-telemetry.html)"
   ]
  },
  {
   "cell_type": "code",
   "execution_count": 2,
   "metadata": {
    "collapsed": false
   },
   "outputs": [],
   "source": [
    "sys.path.append(\"../radarchart/\")\n",
    "from radarchart import Radar"
   ]
  },
  {
   "cell_type": "code",
   "execution_count": 3,
   "metadata": {
    "collapsed": false
   },
   "outputs": [],
   "source": [
    "sys.path.append(\"../utils/\")\n",
    "from utils import r6io, sample_nrows, features"
   ]
  },
  {
   "cell_type": "code",
   "execution_count": 60,
   "metadata": {
    "collapsed": false
   },
   "outputs": [],
   "source": [
    "pd.options.display.float_format = '{:.4f}'.format"
   ]
  },
  {
   "cell_type": "code",
   "execution_count": 45,
   "metadata": {
    "collapsed": false
   },
   "outputs": [],
   "source": [
    "df = r6io.read_player_csv('../data/leaderboard-pages.csv', 'ps4', **{\"nrows\": 10000})\n",
    "df = df.reset_index()\n",
    "NUMBERS = df.columns[(df.columns.str.startswith('stats.')) & (df.columns.str.endswith('has_played')==False)]"
   ]
  },
  {
   "cell_type": "code",
   "execution_count": 46,
   "metadata": {
    "collapsed": false
   },
   "outputs": [
    {
     "data": {
      "text/plain": [
       "index                                             int64\n",
       "updated_at                               datetime64[ns]\n",
       "platform                                         object\n",
       "ubisoft_id                                       object\n",
       "username                                         object\n",
       "stats.ranked.has_played                            bool\n",
       "stats.casual.has_played                            bool\n",
       "stats.casual.deaths                             float64\n",
       "stats.casual.kd                                 float64\n",
       "stats.casual.kills                              float64\n",
       "stats.casual.losses                             float64\n",
       "stats.casual.playtime                           float64\n",
       "stats.casual.wins                               float64\n",
       "stats.casual.wlr                                float64\n",
       "stats.overall.assists                           float64\n",
       "stats.overall.barricades_built                  float64\n",
       "stats.overall.bullets_fired                     float64\n",
       "stats.overall.bullets_hit                       float64\n",
       "stats.overall.headshots                         float64\n",
       "stats.overall.melee_kills                       float64\n",
       "stats.overall.penetration_kills                 float64\n",
       "stats.overall.reinforcements_deployed           float64\n",
       "stats.overall.revives                           float64\n",
       "stats.overall.steps_moved                       float64\n",
       "stats.overall.suicides                          float64\n",
       "stats.progression.level                         float64\n",
       "stats.progression.xp                            float64\n",
       "stats.ranked.deaths                             float64\n",
       "stats.ranked.kd                                 float64\n",
       "stats.ranked.kills                              float64\n",
       "stats.ranked.losses                             float64\n",
       "stats.ranked.playtime                           float64\n",
       "stats.ranked.wins                               float64\n",
       "stats.ranked.wlr                                float64\n",
       "dtype: object"
      ]
     },
     "execution_count": 46,
     "metadata": {},
     "output_type": "execute_result"
    }
   ],
   "source": [
    "df.dtypes"
   ]
  },
  {
   "cell_type": "code",
   "execution_count": 47,
   "metadata": {
    "collapsed": false
   },
   "outputs": [],
   "source": [
    "# radar = RadarChart(plt.figure(figsize=(6, 6)), ['A','B','C','D', 'E'])\n",
    "# radar.plot([1, 3, 2, 5, 4],  \"-\", lw=2, color=\"b\", alpha=0.4, label=\"first\")\n",
    "# radar.plot([2.3, 2, 3, 3, 2],\"-\", lw=2, color=\"r\", alpha=0.4, label=\"second\")\n",
    "# radar.plot([3, 4, 3, 4, 2], \"-\", lw=2, color=\"g\", alpha=0.4, label=\"third\")\n",
    "# radar.show()"
   ]
  },
  {
   "cell_type": "code",
   "execution_count": 61,
   "metadata": {
    "collapsed": false
   },
   "outputs": [
    {
     "data": {
      "text/html": [
       "<div>\n",
       "<table border=\"1\" class=\"dataframe\">\n",
       "  <thead>\n",
       "    <tr style=\"text-align: right;\">\n",
       "      <th></th>\n",
       "      <th>0</th>\n",
       "    </tr>\n",
       "  </thead>\n",
       "  <tbody>\n",
       "    <tr>\n",
       "      <th>index</th>\n",
       "      <td>9346</td>\n",
       "    </tr>\n",
       "    <tr>\n",
       "      <th>updated_at</th>\n",
       "      <td>2017-03-30 15:38:51.639000</td>\n",
       "    </tr>\n",
       "    <tr>\n",
       "      <th>platform</th>\n",
       "      <td>ps4</td>\n",
       "    </tr>\n",
       "    <tr>\n",
       "      <th>ubisoft_id</th>\n",
       "      <td>403c41b5-b184-4a96-b89e-cd4f9c571fb0</td>\n",
       "    </tr>\n",
       "    <tr>\n",
       "      <th>username</th>\n",
       "      <td>A-antoni98</td>\n",
       "    </tr>\n",
       "    <tr>\n",
       "      <th>stats.ranked.has_played</th>\n",
       "      <td>True</td>\n",
       "    </tr>\n",
       "    <tr>\n",
       "      <th>stats.casual.has_played</th>\n",
       "      <td>True</td>\n",
       "    </tr>\n",
       "    <tr>\n",
       "      <th>stats.casual.deaths</th>\n",
       "      <td>777.0000</td>\n",
       "    </tr>\n",
       "    <tr>\n",
       "      <th>stats.casual.kd</th>\n",
       "      <td>1.4860</td>\n",
       "    </tr>\n",
       "    <tr>\n",
       "      <th>stats.casual.kills</th>\n",
       "      <td>1155.0000</td>\n",
       "    </tr>\n",
       "    <tr>\n",
       "      <th>stats.casual.losses</th>\n",
       "      <td>133.0000</td>\n",
       "    </tr>\n",
       "    <tr>\n",
       "      <th>stats.casual.playtime</th>\n",
       "      <td>291203.0000</td>\n",
       "    </tr>\n",
       "    <tr>\n",
       "      <th>stats.casual.wins</th>\n",
       "      <td>221.0000</td>\n",
       "    </tr>\n",
       "    <tr>\n",
       "      <th>stats.casual.wlr</th>\n",
       "      <td>1.6620</td>\n",
       "    </tr>\n",
       "    <tr>\n",
       "      <th>stats.overall.assists</th>\n",
       "      <td>557.0000</td>\n",
       "    </tr>\n",
       "    <tr>\n",
       "      <th>stats.overall.barricades_built</th>\n",
       "      <td>1084.0000</td>\n",
       "    </tr>\n",
       "    <tr>\n",
       "      <th>stats.overall.bullets_fired</th>\n",
       "      <td>92244.0000</td>\n",
       "    </tr>\n",
       "    <tr>\n",
       "      <th>stats.overall.bullets_hit</th>\n",
       "      <td>19630.0000</td>\n",
       "    </tr>\n",
       "    <tr>\n",
       "      <th>stats.overall.headshots</th>\n",
       "      <td>702.0000</td>\n",
       "    </tr>\n",
       "    <tr>\n",
       "      <th>stats.overall.melee_kills</th>\n",
       "      <td>56.0000</td>\n",
       "    </tr>\n",
       "    <tr>\n",
       "      <th>stats.overall.penetration_kills</th>\n",
       "      <td>177.0000</td>\n",
       "    </tr>\n",
       "    <tr>\n",
       "      <th>stats.overall.reinforcements_deployed</th>\n",
       "      <td>2316.0000</td>\n",
       "    </tr>\n",
       "    <tr>\n",
       "      <th>stats.overall.revives</th>\n",
       "      <td>122.0000</td>\n",
       "    </tr>\n",
       "    <tr>\n",
       "      <th>stats.overall.steps_moved</th>\n",
       "      <td>4390203.0000</td>\n",
       "    </tr>\n",
       "    <tr>\n",
       "      <th>stats.overall.suicides</th>\n",
       "      <td>11.0000</td>\n",
       "    </tr>\n",
       "    <tr>\n",
       "      <th>stats.progression.level</th>\n",
       "      <td>99.0000</td>\n",
       "    </tr>\n",
       "    <tr>\n",
       "      <th>stats.progression.xp</th>\n",
       "      <td>38485.0000</td>\n",
       "    </tr>\n",
       "    <tr>\n",
       "      <th>stats.ranked.deaths</th>\n",
       "      <td>631.0000</td>\n",
       "    </tr>\n",
       "    <tr>\n",
       "      <th>stats.ranked.kd</th>\n",
       "      <td>1.6530</td>\n",
       "    </tr>\n",
       "    <tr>\n",
       "      <th>stats.ranked.kills</th>\n",
       "      <td>1043.0000</td>\n",
       "    </tr>\n",
       "    <tr>\n",
       "      <th>stats.ranked.losses</th>\n",
       "      <td>75.0000</td>\n",
       "    </tr>\n",
       "    <tr>\n",
       "      <th>stats.ranked.playtime</th>\n",
       "      <td>217377.0000</td>\n",
       "    </tr>\n",
       "    <tr>\n",
       "      <th>stats.ranked.wins</th>\n",
       "      <td>112.0000</td>\n",
       "    </tr>\n",
       "    <tr>\n",
       "      <th>stats.ranked.wlr</th>\n",
       "      <td>1.4930</td>\n",
       "    </tr>\n",
       "  </tbody>\n",
       "</table>\n",
       "</div>"
      ],
      "text/plain": [
       "                                                                          0\n",
       "index                                                                  9346\n",
       "updated_at                                       2017-03-30 15:38:51.639000\n",
       "platform                                                                ps4\n",
       "ubisoft_id                             403c41b5-b184-4a96-b89e-cd4f9c571fb0\n",
       "username                                                         A-antoni98\n",
       "stats.ranked.has_played                                                True\n",
       "stats.casual.has_played                                                True\n",
       "stats.casual.deaths                                                777.0000\n",
       "stats.casual.kd                                                      1.4860\n",
       "stats.casual.kills                                                1155.0000\n",
       "stats.casual.losses                                                133.0000\n",
       "stats.casual.playtime                                           291203.0000\n",
       "stats.casual.wins                                                  221.0000\n",
       "stats.casual.wlr                                                     1.6620\n",
       "stats.overall.assists                                              557.0000\n",
       "stats.overall.barricades_built                                    1084.0000\n",
       "stats.overall.bullets_fired                                      92244.0000\n",
       "stats.overall.bullets_hit                                        19630.0000\n",
       "stats.overall.headshots                                            702.0000\n",
       "stats.overall.melee_kills                                           56.0000\n",
       "stats.overall.penetration_kills                                    177.0000\n",
       "stats.overall.reinforcements_deployed                             2316.0000\n",
       "stats.overall.revives                                              122.0000\n",
       "stats.overall.steps_moved                                      4390203.0000\n",
       "stats.overall.suicides                                              11.0000\n",
       "stats.progression.level                                             99.0000\n",
       "stats.progression.xp                                             38485.0000\n",
       "stats.ranked.deaths                                                631.0000\n",
       "stats.ranked.kd                                                      1.6530\n",
       "stats.ranked.kills                                                1043.0000\n",
       "stats.ranked.losses                                                 75.0000\n",
       "stats.ranked.playtime                                           217377.0000\n",
       "stats.ranked.wins                                                  112.0000\n",
       "stats.ranked.wlr                                                     1.4930"
      ]
     },
     "execution_count": 61,
     "metadata": {},
     "output_type": "execute_result"
    }
   ],
   "source": [
    "df.head(1).T"
   ]
  },
  {
   "cell_type": "markdown",
   "metadata": {},
   "source": [
    "* **playtime**: minutes of playtime in a given game mode\n",
    "* **kd**: Kill/Death ratio equals the number of kills the player has scored life-to-date divided by the number of deaths suffered\n",
    "* **kills**: number of times a player has killed an enemy\n",
    "* **deaths**: number of times a player was killed by enemies, suicide, or friendly-fire\n",
    "* **wins**: number of games won\n",
    "* **losses**: number of games lost\n",
    "* **wlr**: ratio of wins to losses"
   ]
  },
  {
   "cell_type": "code",
   "execution_count": 80,
   "metadata": {
    "collapsed": false
   },
   "outputs": [],
   "source": [
    "def get_row_values_as_list(row, columns):\n",
    "    return sum([val for val in row.ix[columns].values.tolist()], [])"
   ]
  },
  {
   "cell_type": "code",
   "execution_count": 81,
   "metadata": {
    "collapsed": true
   },
   "outputs": [],
   "source": [
    "def prep_row_data_for_radar_plot(row, colnames):\n",
    "    row = row.copy()\n",
    "    row = pd.DataFrame(row).T\n",
    "    return row.ix[colnames]"
   ]
  },
  {
   "cell_type": "code",
   "execution_count": 78,
   "metadata": {
    "collapsed": false
   },
   "outputs": [
    {
     "data": {
      "text/html": [
       "<div>\n",
       "<table border=\"1\" class=\"dataframe\">\n",
       "  <thead>\n",
       "    <tr style=\"text-align: right;\">\n",
       "      <th></th>\n",
       "      <th>0</th>\n",
       "    </tr>\n",
       "  </thead>\n",
       "  <tbody>\n",
       "    <tr>\n",
       "      <th>stats.casual.kpm</th>\n",
       "      <td>0.0040</td>\n",
       "    </tr>\n",
       "    <tr>\n",
       "      <th>stats.casual.dpm</th>\n",
       "      <td>0.0027</td>\n",
       "    </tr>\n",
       "    <tr>\n",
       "      <th>stats.casual.wpm</th>\n",
       "      <td>0.0008</td>\n",
       "    </tr>\n",
       "    <tr>\n",
       "      <th>stats.casual.lpm</th>\n",
       "      <td>0.0005</td>\n",
       "    </tr>\n",
       "    <tr>\n",
       "      <th>stats.ranked.kpm</th>\n",
       "      <td>0.0048</td>\n",
       "    </tr>\n",
       "    <tr>\n",
       "      <th>stats.ranked.dpm</th>\n",
       "      <td>0.0029</td>\n",
       "    </tr>\n",
       "    <tr>\n",
       "      <th>stats.ranked.wpm</th>\n",
       "      <td>0.0005</td>\n",
       "    </tr>\n",
       "    <tr>\n",
       "      <th>stats.ranked.lpm</th>\n",
       "      <td>0.0003</td>\n",
       "    </tr>\n",
       "  </tbody>\n",
       "</table>\n",
       "</div>"
      ],
      "text/plain": [
       "                      0\n",
       "stats.casual.kpm 0.0040\n",
       "stats.casual.dpm 0.0027\n",
       "stats.casual.wpm 0.0008\n",
       "stats.casual.lpm 0.0005\n",
       "stats.ranked.kpm 0.0048\n",
       "stats.ranked.dpm 0.0029\n",
       "stats.ranked.wpm 0.0005\n",
       "stats.ranked.lpm 0.0003"
      ]
     },
     "execution_count": 78,
     "metadata": {},
     "output_type": "execute_result"
    }
   ],
   "source": [
    "stats = [\n",
    "    'stats.casual.kpm', \n",
    "    'stats.casual.dpm', \n",
    "    'stats.casual.wpm', \n",
    "    'stats.casual.lpm', \n",
    "    'stats.ranked.kpm', \n",
    "    'stats.ranked.dpm', \n",
    "    'stats.ranked.wpm', \n",
    "    'stats.ranked.lpm'\n",
    "]\n",
    "prep_row_data_for_radar_plot(df.head(1), stats)"
   ]
  },
  {
   "cell_type": "code",
   "execution_count": 82,
   "metadata": {
    "collapsed": false
   },
   "outputs": [],
   "source": [
    "row = pd.DataFrame(df.ix[0])\n",
    "values = get_row_values_as_list(row, stats)"
   ]
  },
  {
   "cell_type": "code",
   "execution_count": 83,
   "metadata": {
    "collapsed": false
   },
   "outputs": [
    {
     "name": "stdout",
     "output_type": "stream",
     "text": [
      "['stats.casual.kpm', 'stats.casual.dpm', 'stats.casual.wpm', 'stats.casual.lpm', 'stats.ranked.kpm', 'stats.ranked.dpm', 'stats.ranked.wpm', 'stats.ranked.lpm']\n",
      "[0.00396630529218449, 0.0026682417420150206, 0.00075892075287685911, 0.00045672606394851702, 0.0047981157160141138, 0.0029027910036480403, 0.00051523390239077726, 0.00034502270249382408]\n"
     ]
    }
   ],
   "source": [
    "print stats\n",
    "print values"
   ]
  },
  {
   "cell_type": "code",
   "execution_count": 84,
   "metadata": {
    "collapsed": false
   },
   "outputs": [
    {
     "data": {
      "image/png": "[encoded data removed]",
      "text/plain": [
       "<matplotlib.figure.Figure at 0x10cf64f10>"
      ]
     },
     "metadata": {},
     "output_type": "display_data"
    }
   ],
   "source": [
    "radar = RadarChart(plt.figure(figsize=(6, 6)), stats)\n",
    "radar.plot(values,  \"-\", lw=2, color=\"b\", alpha=0.4, label=\"first\")\n",
    "radar.show()"
   ]
  },
  {
   "cell_type": "code",
   "execution_count": null,
   "metadata": {
    "collapsed": true
   },
   "outputs": [],
   "source": []
  }
 ],
 "metadata": {
  "kernelspec": {
   "display_name": "Python 2",
   "language": "python",
   "name": "python2"
  },
  "language_info": {
   "codemirror_mode": {
    "name": "ipython",
    "version": 2
   },
   "file_extension": ".py",
   "mimetype": "text/x-python",
   "name": "python",
   "nbconvert_exporter": "python",
   "pygments_lexer": "ipython2",
   "version": "2.7.13"
  }
 },
 "nbformat": 4,
 "nbformat_minor": 1
}
