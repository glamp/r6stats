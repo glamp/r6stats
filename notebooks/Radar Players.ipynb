{
 "cells": [
  {
   "cell_type": "code",
   "execution_count": 1,
   "metadata": {
    "collapsed": true
   },
   "outputs": [],
   "source": [
    "import sys\n",
    "import os\n",
    "import numpy as np\n",
    "import pandas as pd\n",
    "import matplotlib.pyplot as plt"
   ]
  },
  {
   "cell_type": "code",
   "execution_count": 2,
   "metadata": {
    "collapsed": true
   },
   "outputs": [],
   "source": [
    "sys.path.append(\"../radarchart/\")\n",
    "from radarchart import RadarChart"
   ]
  },
  {
   "cell_type": "code",
   "execution_count": 3,
   "metadata": {
    "collapsed": false
   },
   "outputs": [],
   "source": [
    "sys.path.append(\"../utils/\")\n",
    "from utils import r6io, sample_nrows"
   ]
  },
  {
   "cell_type": "code",
   "execution_count": 4,
   "metadata": {
    "collapsed": false
   },
   "outputs": [],
   "source": [
    "pd.options.display.precision = 2"
   ]
  },
  {
   "cell_type": "code",
   "execution_count": 5,
   "metadata": {
    "collapsed": true
   },
   "outputs": [],
   "source": [
    "# radar = RadarChart(plt.figure(figsize=(6, 6)), ['A','B','C','D', 'E'])\n",
    "# radar.plot([1, 3, 2, 5, 4],  \"-\", lw=2, color=\"b\", alpha=0.4, label=\"first\")\n",
    "# radar.plot([2.3, 2, 3, 3, 2],\"-\", lw=2, color=\"r\", alpha=0.4, label=\"second\")\n",
    "# radar.plot([3, 4, 3, 4, 2], \"-\", lw=2, color=\"g\", alpha=0.4, label=\"third\")"
   ]
  },
  {
   "cell_type": "code",
   "execution_count": 6,
   "metadata": {
    "collapsed": false
   },
   "outputs": [],
   "source": [
    "radar = RadarChart(plt.figure(figsize=(6, 6)), ['A','B','C','D', 'E'])"
   ]
  },
  {
   "cell_type": "code",
   "execution_count": 7,
   "metadata": {
    "collapsed": false
   },
   "outputs": [
    {
     "name": "stdout",
     "output_type": "stream",
     "text": [
      "(416092, 23)\n"
     ]
    }
   ],
   "source": [
    "df = r6io.read_player_csv('../data/leaderboard-pages.csv', 'ps4', 'ranked')\n",
    "df = sample_nrows(df, n=5000)"
   ]
  },
  {
   "cell_type": "code",
   "execution_count": 9,
   "metadata": {
    "collapsed": false
   },
   "outputs": [
    {
     "data": {
      "text/plain": [
       "indexed_at                               datetime64[ns]\n",
       "updated_at                               datetime64[ns]\n",
       "platform                                         object\n",
       "ubisoft_id                                       object\n",
       "username                                         object\n",
       "stats.overall.assists                           float64\n",
       "stats.overall.barricades_built                  float64\n",
       "stats.overall.bullets_fired                     float64\n",
       "stats.overall.bullets_hit                       float64\n",
       "stats.overall.headshots                         float64\n",
       "stats.overall.melee_kills                       float64\n",
       "stats.overall.penetration_kills                 float64\n",
       "stats.overall.reinforcements_deployed           float64\n",
       "stats.overall.revives                           float64\n",
       "stats.overall.steps_moved                       float64\n",
       "stats.overall.suicides                          float64\n",
       "stats.ranked.deaths                             float64\n",
       "stats.ranked.kd                                 float64\n",
       "stats.ranked.kills                              float64\n",
       "stats.ranked.losses                             float64\n",
       "stats.ranked.playtime                           float64\n",
       "stats.ranked.wins                               float64\n",
       "stats.ranked.wlr                                float64\n",
       "dtype: object"
      ]
     },
     "execution_count": 9,
     "metadata": {},
     "output_type": "execute_result"
    }
   ],
   "source": [
    "df.dtypes"
   ]
  },
  {
   "cell_type": "code",
   "execution_count": 19,
   "metadata": {
    "collapsed": false
   },
   "outputs": [],
   "source": [
    "def "
   ]
  },
  {
   "cell_type": "code",
   "execution_count": null,
   "metadata": {
    "collapsed": true
   },
   "outputs": [],
   "source": []
  }
 ],
 "metadata": {
  "kernelspec": {
   "display_name": "Python 2",
   "language": "python",
   "name": "python2"
  },
  "language_info": {
   "codemirror_mode": {
    "name": "ipython",
    "version": 2
   },
   "file_extension": ".py",
   "mimetype": "text/x-python",
   "name": "python",
   "nbconvert_exporter": "python",
   "pygments_lexer": "ipython2",
   "version": "2.7.13"
  }
 },
 "nbformat": 4,
 "nbformat_minor": 1
}
