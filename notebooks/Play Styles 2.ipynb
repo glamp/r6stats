{
 "cells": [
  {
   "cell_type": "code",
   "execution_count": 1,
   "metadata": {
    "collapsed": true
   },
   "outputs": [],
   "source": [
    "import sys\n",
    "import os\n",
    "import numpy as np\n",
    "import pandas as pd\n",
    "import matplotlib.pyplot as plt"
   ]
  },
  {
   "cell_type": "code",
   "execution_count": 4,
   "metadata": {
    "collapsed": true
   },
   "outputs": [],
   "source": [
    "pd.options.display.float_format = '{:.6f}'.format"
   ]
  },
  {
   "cell_type": "code",
   "execution_count": 7,
   "metadata": {
    "collapsed": false
   },
   "outputs": [
    {
     "name": "stdout",
     "output_type": "stream",
     "text": [
      "133524 rows\n",
      "13 columns\n"
     ]
    },
    {
     "data": {
      "text/html": [
       "<div>\n",
       "<table border=\"1\" class=\"dataframe\">\n",
       "  <thead>\n",
       "    <tr style=\"text-align: right;\">\n",
       "      <th></th>\n",
       "      <th>25625</th>\n",
       "    </tr>\n",
       "  </thead>\n",
       "  <tbody>\n",
       "    <tr>\n",
       "      <th>stats.overall.assists</th>\n",
       "      <td>1232.000000</td>\n",
       "    </tr>\n",
       "    <tr>\n",
       "      <th>stats.overall.barricades_built</th>\n",
       "      <td>2155.000000</td>\n",
       "    </tr>\n",
       "    <tr>\n",
       "      <th>stats.overall.bullets_fired</th>\n",
       "      <td>163842.000000</td>\n",
       "    </tr>\n",
       "    <tr>\n",
       "      <th>stats.overall.bullets_hit</th>\n",
       "      <td>43493.000000</td>\n",
       "    </tr>\n",
       "    <tr>\n",
       "      <th>stats.overall.headshots</th>\n",
       "      <td>1823.000000</td>\n",
       "    </tr>\n",
       "    <tr>\n",
       "      <th>stats.overall.melee_kills</th>\n",
       "      <td>55.000000</td>\n",
       "    </tr>\n",
       "    <tr>\n",
       "      <th>stats.overall.penetration_kills</th>\n",
       "      <td>525.000000</td>\n",
       "    </tr>\n",
       "    <tr>\n",
       "      <th>stats.overall.reinforcements_deployed</th>\n",
       "      <td>6131.000000</td>\n",
       "    </tr>\n",
       "    <tr>\n",
       "      <th>stats.overall.revives</th>\n",
       "      <td>165.000000</td>\n",
       "    </tr>\n",
       "    <tr>\n",
       "      <th>stats.overall.steps_moved</th>\n",
       "      <td>1136840.000000</td>\n",
       "    </tr>\n",
       "    <tr>\n",
       "      <th>stats.overall.suicides</th>\n",
       "      <td>51.000000</td>\n",
       "    </tr>\n",
       "    <tr>\n",
       "      <th>stats.progression.level</th>\n",
       "      <td>148.000000</td>\n",
       "    </tr>\n",
       "    <tr>\n",
       "      <th>stats.progression.xp</th>\n",
       "      <td>45957.000000</td>\n",
       "    </tr>\n",
       "  </tbody>\n",
       "</table>\n",
       "</div>"
      ],
      "text/plain": [
       "                                               25625\n",
       "stats.overall.assists                    1232.000000\n",
       "stats.overall.barricades_built           2155.000000\n",
       "stats.overall.bullets_fired            163842.000000\n",
       "stats.overall.bullets_hit               43493.000000\n",
       "stats.overall.headshots                  1823.000000\n",
       "stats.overall.melee_kills                  55.000000\n",
       "stats.overall.penetration_kills           525.000000\n",
       "stats.overall.reinforcements_deployed    6131.000000\n",
       "stats.overall.revives                     165.000000\n",
       "stats.overall.steps_moved             1136840.000000\n",
       "stats.overall.suicides                     51.000000\n",
       "stats.progression.level                   148.000000\n",
       "stats.progression.xp                    45957.000000"
      ]
     },
     "execution_count": 7,
     "metadata": {},
     "output_type": "execute_result"
    }
   ],
   "source": [
    "df = pd.read_csv('../data/overall_stats_for_ps4.csv', index_col=0)\n",
    "print \"{} rows\".format(df.shape[0])\n",
    "print \"{} columns\".format(df.shape[1])\n",
    "df.head(1).T"
   ]
  },
  {
   "cell_type": "code",
   "execution_count": 3,
   "metadata": {
    "collapsed": true
   },
   "outputs": [],
   "source": [
    "from sklearn.cluster import KMeans\n",
    "from sklearn import preprocessing"
   ]
  }
 ],
 "metadata": {
  "kernelspec": {
   "display_name": "Python 2",
   "language": "python",
   "name": "python2"
  },
  "language_info": {
   "codemirror_mode": {
    "name": "ipython",
    "version": 2
   },
   "file_extension": ".py",
   "mimetype": "text/x-python",
   "name": "python",
   "nbconvert_exporter": "python",
   "pygments_lexer": "ipython2",
   "version": "2.7.13"
  }
 },
 "nbformat": 4,
 "nbformat_minor": 1
}
