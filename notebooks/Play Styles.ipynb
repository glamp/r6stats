{
 "cells": [
  {
   "cell_type": "code",
   "execution_count": 1,
   "metadata": {
    "collapsed": true
   },
   "outputs": [],
   "source": [
    "import sys\n",
    "import os\n",
    "import numpy as np\n",
    "import pandas as pd\n",
    "import matplotlib.pyplot as plt"
   ]
  },
  {
   "cell_type": "code",
   "execution_count": 2,
   "metadata": {
    "collapsed": false
   },
   "outputs": [],
   "source": [
    "sys.path.append(\"../utils/\")"
   ]
  },
  {
   "cell_type": "code",
   "execution_count": 3,
   "metadata": {
    "collapsed": false
   },
   "outputs": [],
   "source": [
    "from utils import r6io\n",
    "from utils import features\n",
    "from utils import plotting"
   ]
  },
  {
   "cell_type": "code",
   "execution_count": 14,
   "metadata": {
    "collapsed": true
   },
   "outputs": [],
   "source": [
    "pd.options.display.float_format = '{:.6f}'.format"
   ]
  },
  {
   "cell_type": "code",
   "execution_count": 5,
   "metadata": {
    "collapsed": false
   },
   "outputs": [],
   "source": [
    "df = r6io.read_player_csv('../data/leaderboard-pages.csv', 'ps4', **{\"nrows\": 10000})\n",
    "df = df.reset_index()"
   ]
  },
  {
   "cell_type": "code",
   "execution_count": 6,
   "metadata": {
    "collapsed": false
   },
   "outputs": [],
   "source": [
    "numbers = features.columns_for_stats(df)"
   ]
  },
  {
   "cell_type": "code",
   "execution_count": 7,
   "metadata": {
    "collapsed": false
   },
   "outputs": [],
   "source": [
    "df_stats = df[numbers].copy().fillna(0)"
   ]
  },
  {
   "cell_type": "code",
   "execution_count": 8,
   "metadata": {
    "collapsed": false
   },
   "outputs": [
    {
     "data": {
      "text/html": [
       "<div>\n",
       "<table border=\"1\" class=\"dataframe\">\n",
       "  <thead>\n",
       "    <tr style=\"text-align: right;\">\n",
       "      <th></th>\n",
       "      <th>0</th>\n",
       "    </tr>\n",
       "  </thead>\n",
       "  <tbody>\n",
       "    <tr>\n",
       "      <th>stats.casual.deaths</th>\n",
       "      <td>777.0000</td>\n",
       "    </tr>\n",
       "    <tr>\n",
       "      <th>stats.casual.kd</th>\n",
       "      <td>1.4860</td>\n",
       "    </tr>\n",
       "    <tr>\n",
       "      <th>stats.casual.kills</th>\n",
       "      <td>1155.0000</td>\n",
       "    </tr>\n",
       "    <tr>\n",
       "      <th>stats.casual.losses</th>\n",
       "      <td>133.0000</td>\n",
       "    </tr>\n",
       "    <tr>\n",
       "      <th>stats.casual.playtime</th>\n",
       "      <td>291203.0000</td>\n",
       "    </tr>\n",
       "    <tr>\n",
       "      <th>stats.casual.wins</th>\n",
       "      <td>221.0000</td>\n",
       "    </tr>\n",
       "    <tr>\n",
       "      <th>stats.casual.wlr</th>\n",
       "      <td>1.6620</td>\n",
       "    </tr>\n",
       "    <tr>\n",
       "      <th>stats.overall.assists</th>\n",
       "      <td>557.0000</td>\n",
       "    </tr>\n",
       "    <tr>\n",
       "      <th>stats.overall.barricades_built</th>\n",
       "      <td>1084.0000</td>\n",
       "    </tr>\n",
       "    <tr>\n",
       "      <th>stats.overall.bullets_fired</th>\n",
       "      <td>92244.0000</td>\n",
       "    </tr>\n",
       "    <tr>\n",
       "      <th>stats.overall.bullets_hit</th>\n",
       "      <td>19630.0000</td>\n",
       "    </tr>\n",
       "    <tr>\n",
       "      <th>stats.overall.headshots</th>\n",
       "      <td>702.0000</td>\n",
       "    </tr>\n",
       "    <tr>\n",
       "      <th>stats.overall.melee_kills</th>\n",
       "      <td>56.0000</td>\n",
       "    </tr>\n",
       "    <tr>\n",
       "      <th>stats.overall.penetration_kills</th>\n",
       "      <td>177.0000</td>\n",
       "    </tr>\n",
       "    <tr>\n",
       "      <th>stats.overall.reinforcements_deployed</th>\n",
       "      <td>2316.0000</td>\n",
       "    </tr>\n",
       "    <tr>\n",
       "      <th>stats.overall.revives</th>\n",
       "      <td>122.0000</td>\n",
       "    </tr>\n",
       "    <tr>\n",
       "      <th>stats.overall.steps_moved</th>\n",
       "      <td>4390203.0000</td>\n",
       "    </tr>\n",
       "    <tr>\n",
       "      <th>stats.overall.suicides</th>\n",
       "      <td>11.0000</td>\n",
       "    </tr>\n",
       "    <tr>\n",
       "      <th>stats.progression.level</th>\n",
       "      <td>99.0000</td>\n",
       "    </tr>\n",
       "    <tr>\n",
       "      <th>stats.progression.xp</th>\n",
       "      <td>38485.0000</td>\n",
       "    </tr>\n",
       "    <tr>\n",
       "      <th>stats.ranked.deaths</th>\n",
       "      <td>631.0000</td>\n",
       "    </tr>\n",
       "    <tr>\n",
       "      <th>stats.ranked.kd</th>\n",
       "      <td>1.6530</td>\n",
       "    </tr>\n",
       "    <tr>\n",
       "      <th>stats.ranked.kills</th>\n",
       "      <td>1043.0000</td>\n",
       "    </tr>\n",
       "    <tr>\n",
       "      <th>stats.ranked.losses</th>\n",
       "      <td>75.0000</td>\n",
       "    </tr>\n",
       "    <tr>\n",
       "      <th>stats.ranked.playtime</th>\n",
       "      <td>217377.0000</td>\n",
       "    </tr>\n",
       "    <tr>\n",
       "      <th>stats.ranked.wins</th>\n",
       "      <td>112.0000</td>\n",
       "    </tr>\n",
       "    <tr>\n",
       "      <th>stats.ranked.wlr</th>\n",
       "      <td>1.4930</td>\n",
       "    </tr>\n",
       "  </tbody>\n",
       "</table>\n",
       "</div>"
      ],
      "text/plain": [
       "                                                 0\n",
       "stats.casual.deaths                       777.0000\n",
       "stats.casual.kd                             1.4860\n",
       "stats.casual.kills                       1155.0000\n",
       "stats.casual.losses                       133.0000\n",
       "stats.casual.playtime                  291203.0000\n",
       "stats.casual.wins                         221.0000\n",
       "stats.casual.wlr                            1.6620\n",
       "stats.overall.assists                     557.0000\n",
       "stats.overall.barricades_built           1084.0000\n",
       "stats.overall.bullets_fired             92244.0000\n",
       "stats.overall.bullets_hit               19630.0000\n",
       "stats.overall.headshots                   702.0000\n",
       "stats.overall.melee_kills                  56.0000\n",
       "stats.overall.penetration_kills           177.0000\n",
       "stats.overall.reinforcements_deployed    2316.0000\n",
       "stats.overall.revives                     122.0000\n",
       "stats.overall.steps_moved             4390203.0000\n",
       "stats.overall.suicides                     11.0000\n",
       "stats.progression.level                    99.0000\n",
       "stats.progression.xp                    38485.0000\n",
       "stats.ranked.deaths                       631.0000\n",
       "stats.ranked.kd                             1.6530\n",
       "stats.ranked.kills                       1043.0000\n",
       "stats.ranked.losses                        75.0000\n",
       "stats.ranked.playtime                  217377.0000\n",
       "stats.ranked.wins                         112.0000\n",
       "stats.ranked.wlr                            1.4930"
      ]
     },
     "execution_count": 8,
     "metadata": {},
     "output_type": "execute_result"
    }
   ],
   "source": [
    "df_stats.head(1).T"
   ]
  },
  {
   "cell_type": "code",
   "execution_count": 9,
   "metadata": {
    "collapsed": false
   },
   "outputs": [],
   "source": [
    "df_stats['stats.overall.playtime'] = features.calc_total_playtime(df_stats)"
   ]
  },
  {
   "cell_type": "code",
   "execution_count": 10,
   "metadata": {
    "collapsed": false
   },
   "outputs": [
    {
     "data": {
      "image/png": "[encoded data removed]",
      "text/plain": [
       "<matplotlib.figure.Figure at 0x10d819910>"
      ]
     },
     "metadata": {},
     "output_type": "display_data"
    }
   ],
   "source": [
    "X = df_stats['stats.overall.playtime'].replace(np.inf, 0)\n",
    "fig = plt.figure(figsize=(13,4), dpi=100)\n",
    "\n",
    "plt.subplot(1, 2, 1)\n",
    "plt.hist(X, bins='auto', label=X.name)\n",
    "plt.legend(loc='upper right')\n",
    "\n",
    "plt.subplot(1, 2, 2)\n",
    "plt.hist(np.log(X), bins='auto', label=\"log({})\".format(X.name))\n",
    "plt.legend(loc='upper left')\n",
    "\n",
    "plt.show()"
   ]
  },
  {
   "cell_type": "code",
   "execution_count": 17,
   "metadata": {
    "collapsed": false
   },
   "outputs": [],
   "source": [
    "df_stats_normed = df_stats.apply(features.normalize_for_playtime, frame=df_stats).fillna(0)"
   ]
  },
  {
   "cell_type": "code",
   "execution_count": 18,
   "metadata": {
    "collapsed": false
   },
   "outputs": [
    {
     "data": {
      "text/html": [
       "<div>\n",
       "<table border=\"1\" class=\"dataframe\">\n",
       "  <thead>\n",
       "    <tr style=\"text-align: right;\">\n",
       "      <th></th>\n",
       "      <th>stats.casual.deaths</th>\n",
       "      <th>stats.casual.kd</th>\n",
       "      <th>stats.casual.kills</th>\n",
       "      <th>stats.casual.losses</th>\n",
       "      <th>stats.casual.playtime</th>\n",
       "      <th>stats.casual.wins</th>\n",
       "      <th>stats.casual.wlr</th>\n",
       "      <th>stats.overall.assists</th>\n",
       "      <th>stats.overall.barricades_built</th>\n",
       "      <th>stats.overall.bullets_fired</th>\n",
       "      <th>...</th>\n",
       "      <th>stats.progression.level</th>\n",
       "      <th>stats.progression.xp</th>\n",
       "      <th>stats.ranked.deaths</th>\n",
       "      <th>stats.ranked.kd</th>\n",
       "      <th>stats.ranked.kills</th>\n",
       "      <th>stats.ranked.losses</th>\n",
       "      <th>stats.ranked.playtime</th>\n",
       "      <th>stats.ranked.wins</th>\n",
       "      <th>stats.ranked.wlr</th>\n",
       "      <th>stats.overall.playtime</th>\n",
       "    </tr>\n",
       "  </thead>\n",
       "  <tbody>\n",
       "    <tr>\n",
       "      <th>0</th>\n",
       "      <td>0.002668</td>\n",
       "      <td>0.000005</td>\n",
       "      <td>0.003966</td>\n",
       "      <td>0.000457</td>\n",
       "      <td>1.000000</td>\n",
       "      <td>0.000759</td>\n",
       "      <td>0.000006</td>\n",
       "      <td>0.001095</td>\n",
       "      <td>0.002131</td>\n",
       "      <td>0.181376</td>\n",
       "      <td>...</td>\n",
       "      <td>0.000195</td>\n",
       "      <td>0.075671</td>\n",
       "      <td>0.002903</td>\n",
       "      <td>0.000008</td>\n",
       "      <td>0.004798</td>\n",
       "      <td>0.000345</td>\n",
       "      <td>1.000000</td>\n",
       "      <td>0.000515</td>\n",
       "      <td>0.000007</td>\n",
       "      <td>1.000000</td>\n",
       "    </tr>\n",
       "    <tr>\n",
       "      <th>1</th>\n",
       "      <td>0.005427</td>\n",
       "      <td>0.000059</td>\n",
       "      <td>0.008275</td>\n",
       "      <td>0.000308</td>\n",
       "      <td>1.000000</td>\n",
       "      <td>0.000731</td>\n",
       "      <td>0.000091</td>\n",
       "      <td>0.001861</td>\n",
       "      <td>0.000465</td>\n",
       "      <td>0.274528</td>\n",
       "      <td>...</td>\n",
       "      <td>0.000362</td>\n",
       "      <td>0.080766</td>\n",
       "      <td>0.004720</td>\n",
       "      <td>0.000009</td>\n",
       "      <td>0.005566</td>\n",
       "      <td>0.000365</td>\n",
       "      <td>1.000000</td>\n",
       "      <td>0.000497</td>\n",
       "      <td>0.000011</td>\n",
       "      <td>1.000000</td>\n",
       "    </tr>\n",
       "    <tr>\n",
       "      <th>2</th>\n",
       "      <td>0.002989</td>\n",
       "      <td>0.000372</td>\n",
       "      <td>0.006329</td>\n",
       "      <td>0.000352</td>\n",
       "      <td>1.000000</td>\n",
       "      <td>0.001231</td>\n",
       "      <td>0.000615</td>\n",
       "      <td>0.001230</td>\n",
       "      <td>0.000416</td>\n",
       "      <td>0.163090</td>\n",
       "      <td>...</td>\n",
       "      <td>0.000572</td>\n",
       "      <td>0.070113</td>\n",
       "      <td>0.003247</td>\n",
       "      <td>0.000027</td>\n",
       "      <td>0.004515</td>\n",
       "      <td>0.000288</td>\n",
       "      <td>1.000000</td>\n",
       "      <td>0.000538</td>\n",
       "      <td>0.000036</td>\n",
       "      <td>1.000000</td>\n",
       "    </tr>\n",
       "    <tr>\n",
       "      <th>3</th>\n",
       "      <td>0.002934</td>\n",
       "      <td>0.000130</td>\n",
       "      <td>0.005208</td>\n",
       "      <td>0.000513</td>\n",
       "      <td>1.000000</td>\n",
       "      <td>0.000733</td>\n",
       "      <td>0.000105</td>\n",
       "      <td>0.001578</td>\n",
       "      <td>0.000162</td>\n",
       "      <td>0.233010</td>\n",
       "      <td>...</td>\n",
       "      <td>0.000728</td>\n",
       "      <td>0.105299</td>\n",
       "      <td>0.002526</td>\n",
       "      <td>0.000122</td>\n",
       "      <td>0.003428</td>\n",
       "      <td>0.000180</td>\n",
       "      <td>1.000000</td>\n",
       "      <td>0.000722</td>\n",
       "      <td>0.000361</td>\n",
       "      <td>1.000000</td>\n",
       "    </tr>\n",
       "    <tr>\n",
       "      <th>4</th>\n",
       "      <td>0.003441</td>\n",
       "      <td>0.000002</td>\n",
       "      <td>0.002520</td>\n",
       "      <td>0.000535</td>\n",
       "      <td>1.000000</td>\n",
       "      <td>0.000609</td>\n",
       "      <td>0.000003</td>\n",
       "      <td>0.000928</td>\n",
       "      <td>0.001695</td>\n",
       "      <td>0.088812</td>\n",
       "      <td>...</td>\n",
       "      <td>0.000081</td>\n",
       "      <td>0.031565</td>\n",
       "      <td>0.003302</td>\n",
       "      <td>0.000000</td>\n",
       "      <td>0.002404</td>\n",
       "      <td>0.000405</td>\n",
       "      <td>1.000000</td>\n",
       "      <td>0.000354</td>\n",
       "      <td>0.000001</td>\n",
       "      <td>1.000000</td>\n",
       "    </tr>\n",
       "    <tr>\n",
       "      <th>5</th>\n",
       "      <td>0.003648</td>\n",
       "      <td>0.000002</td>\n",
       "      <td>0.002653</td>\n",
       "      <td>0.000700</td>\n",
       "      <td>1.000000</td>\n",
       "      <td>0.000550</td>\n",
       "      <td>0.000002</td>\n",
       "      <td>0.001049</td>\n",
       "      <td>0.002235</td>\n",
       "      <td>0.100578</td>\n",
       "      <td>...</td>\n",
       "      <td>0.000207</td>\n",
       "      <td>0.042043</td>\n",
       "      <td>0.003532</td>\n",
       "      <td>0.000017</td>\n",
       "      <td>0.001875</td>\n",
       "      <td>0.000500</td>\n",
       "      <td>1.000000</td>\n",
       "      <td>0.000406</td>\n",
       "      <td>0.000025</td>\n",
       "      <td>1.000000</td>\n",
       "    </tr>\n",
       "    <tr>\n",
       "      <th>6</th>\n",
       "      <td>0.003379</td>\n",
       "      <td>0.000005</td>\n",
       "      <td>0.002560</td>\n",
       "      <td>0.000609</td>\n",
       "      <td>1.000000</td>\n",
       "      <td>0.000628</td>\n",
       "      <td>0.000006</td>\n",
       "      <td>0.001048</td>\n",
       "      <td>0.001472</td>\n",
       "      <td>0.131502</td>\n",
       "      <td>...</td>\n",
       "      <td>0.000167</td>\n",
       "      <td>0.034902</td>\n",
       "      <td>0.003326</td>\n",
       "      <td>0.000002</td>\n",
       "      <td>0.002703</td>\n",
       "      <td>0.000415</td>\n",
       "      <td>1.000000</td>\n",
       "      <td>0.000415</td>\n",
       "      <td>0.000003</td>\n",
       "      <td>1.000000</td>\n",
       "    </tr>\n",
       "    <tr>\n",
       "      <th>7</th>\n",
       "      <td>0.003834</td>\n",
       "      <td>0.000548</td>\n",
       "      <td>0.003834</td>\n",
       "      <td>0.001095</td>\n",
       "      <td>1.000000</td>\n",
       "      <td>0.000548</td>\n",
       "      <td>0.000274</td>\n",
       "      <td>0.001095</td>\n",
       "      <td>0.005476</td>\n",
       "      <td>0.187842</td>\n",
       "      <td>...</td>\n",
       "      <td>0.001643</td>\n",
       "      <td>0.102957</td>\n",
       "      <td>0.000000</td>\n",
       "      <td>0.000000</td>\n",
       "      <td>0.000000</td>\n",
       "      <td>0.000000</td>\n",
       "      <td>0.000000</td>\n",
       "      <td>0.000000</td>\n",
       "      <td>0.000000</td>\n",
       "      <td>1.000000</td>\n",
       "    </tr>\n",
       "    <tr>\n",
       "      <th>8</th>\n",
       "      <td>0.003379</td>\n",
       "      <td>0.000005</td>\n",
       "      <td>0.003661</td>\n",
       "      <td>0.000610</td>\n",
       "      <td>1.000000</td>\n",
       "      <td>0.000707</td>\n",
       "      <td>0.000005</td>\n",
       "      <td>0.001225</td>\n",
       "      <td>0.001516</td>\n",
       "      <td>0.148206</td>\n",
       "      <td>...</td>\n",
       "      <td>0.000160</td>\n",
       "      <td>0.015950</td>\n",
       "      <td>0.003590</td>\n",
       "      <td>0.000003</td>\n",
       "      <td>0.003983</td>\n",
       "      <td>0.000360</td>\n",
       "      <td>1.000000</td>\n",
       "      <td>0.000476</td>\n",
       "      <td>0.000003</td>\n",
       "      <td>1.000000</td>\n",
       "    </tr>\n",
       "    <tr>\n",
       "      <th>9</th>\n",
       "      <td>0.003123</td>\n",
       "      <td>0.000002</td>\n",
       "      <td>0.002673</td>\n",
       "      <td>0.000545</td>\n",
       "      <td>1.000000</td>\n",
       "      <td>0.000607</td>\n",
       "      <td>0.000003</td>\n",
       "      <td>0.000999</td>\n",
       "      <td>0.001873</td>\n",
       "      <td>0.115198</td>\n",
       "      <td>...</td>\n",
       "      <td>0.000208</td>\n",
       "      <td>0.042227</td>\n",
       "      <td>0.002509</td>\n",
       "      <td>0.000028</td>\n",
       "      <td>0.002832</td>\n",
       "      <td>0.000273</td>\n",
       "      <td>1.000000</td>\n",
       "      <td>0.000472</td>\n",
       "      <td>0.000043</td>\n",
       "      <td>1.000000</td>\n",
       "    </tr>\n",
       "  </tbody>\n",
       "</table>\n",
       "<p>10 rows × 28 columns</p>\n",
       "</div>"
      ],
      "text/plain": [
       "   stats.casual.deaths  stats.casual.kd  stats.casual.kills  \\\n",
       "0             0.002668         0.000005            0.003966   \n",
       "1             0.005427         0.000059            0.008275   \n",
       "2             0.002989         0.000372            0.006329   \n",
       "3             0.002934         0.000130            0.005208   \n",
       "4             0.003441         0.000002            0.002520   \n",
       "5             0.003648         0.000002            0.002653   \n",
       "6             0.003379         0.000005            0.002560   \n",
       "7             0.003834         0.000548            0.003834   \n",
       "8             0.003379         0.000005            0.003661   \n",
       "9             0.003123         0.000002            0.002673   \n",
       "\n",
       "   stats.casual.losses  stats.casual.playtime  stats.casual.wins  \\\n",
       "0             0.000457               1.000000           0.000759   \n",
       "1             0.000308               1.000000           0.000731   \n",
       "2             0.000352               1.000000           0.001231   \n",
       "3             0.000513               1.000000           0.000733   \n",
       "4             0.000535               1.000000           0.000609   \n",
       "5             0.000700               1.000000           0.000550   \n",
       "6             0.000609               1.000000           0.000628   \n",
       "7             0.001095               1.000000           0.000548   \n",
       "8             0.000610               1.000000           0.000707   \n",
       "9             0.000545               1.000000           0.000607   \n",
       "\n",
       "   stats.casual.wlr  stats.overall.assists  stats.overall.barricades_built  \\\n",
       "0          0.000006               0.001095                        0.002131   \n",
       "1          0.000091               0.001861                        0.000465   \n",
       "2          0.000615               0.001230                        0.000416   \n",
       "3          0.000105               0.001578                        0.000162   \n",
       "4          0.000003               0.000928                        0.001695   \n",
       "5          0.000002               0.001049                        0.002235   \n",
       "6          0.000006               0.001048                        0.001472   \n",
       "7          0.000274               0.001095                        0.005476   \n",
       "8          0.000005               0.001225                        0.001516   \n",
       "9          0.000003               0.000999                        0.001873   \n",
       "\n",
       "   stats.overall.bullets_fired           ...            \\\n",
       "0                     0.181376           ...             \n",
       "1                     0.274528           ...             \n",
       "2                     0.163090           ...             \n",
       "3                     0.233010           ...             \n",
       "4                     0.088812           ...             \n",
       "5                     0.100578           ...             \n",
       "6                     0.131502           ...             \n",
       "7                     0.187842           ...             \n",
       "8                     0.148206           ...             \n",
       "9                     0.115198           ...             \n",
       "\n",
       "   stats.progression.level  stats.progression.xp  stats.ranked.deaths  \\\n",
       "0                 0.000195              0.075671             0.002903   \n",
       "1                 0.000362              0.080766             0.004720   \n",
       "2                 0.000572              0.070113             0.003247   \n",
       "3                 0.000728              0.105299             0.002526   \n",
       "4                 0.000081              0.031565             0.003302   \n",
       "5                 0.000207              0.042043             0.003532   \n",
       "6                 0.000167              0.034902             0.003326   \n",
       "7                 0.001643              0.102957             0.000000   \n",
       "8                 0.000160              0.015950             0.003590   \n",
       "9                 0.000208              0.042227             0.002509   \n",
       "\n",
       "   stats.ranked.kd  stats.ranked.kills  stats.ranked.losses  \\\n",
       "0         0.000008            0.004798             0.000345   \n",
       "1         0.000009            0.005566             0.000365   \n",
       "2         0.000027            0.004515             0.000288   \n",
       "3         0.000122            0.003428             0.000180   \n",
       "4         0.000000            0.002404             0.000405   \n",
       "5         0.000017            0.001875             0.000500   \n",
       "6         0.000002            0.002703             0.000415   \n",
       "7         0.000000            0.000000             0.000000   \n",
       "8         0.000003            0.003983             0.000360   \n",
       "9         0.000028            0.002832             0.000273   \n",
       "\n",
       "   stats.ranked.playtime  stats.ranked.wins  stats.ranked.wlr  \\\n",
       "0               1.000000           0.000515          0.000007   \n",
       "1               1.000000           0.000497          0.000011   \n",
       "2               1.000000           0.000538          0.000036   \n",
       "3               1.000000           0.000722          0.000361   \n",
       "4               1.000000           0.000354          0.000001   \n",
       "5               1.000000           0.000406          0.000025   \n",
       "6               1.000000           0.000415          0.000003   \n",
       "7               0.000000           0.000000          0.000000   \n",
       "8               1.000000           0.000476          0.000003   \n",
       "9               1.000000           0.000472          0.000043   \n",
       "\n",
       "   stats.overall.playtime  \n",
       "0                1.000000  \n",
       "1                1.000000  \n",
       "2                1.000000  \n",
       "3                1.000000  \n",
       "4                1.000000  \n",
       "5                1.000000  \n",
       "6                1.000000  \n",
       "7                1.000000  \n",
       "8                1.000000  \n",
       "9                1.000000  \n",
       "\n",
       "[10 rows x 28 columns]"
      ]
     },
     "execution_count": 18,
     "metadata": {},
     "output_type": "execute_result"
    }
   ],
   "source": [
    "df_stats_normed.head(10)"
   ]
  },
  {
   "cell_type": "code",
   "execution_count": 52,
   "metadata": {
    "collapsed": true
   },
   "outputs": [],
   "source": [
    "from sklearn.cluster import MiniBatchKMeans, KMeans\n",
    "from sklearn.decomposition import PCA\n",
    "from sklearn.metrics.pairwise import pairwise_distances_argmin"
   ]
  },
  {
   "cell_type": "code",
   "execution_count": 61,
   "metadata": {
    "collapsed": false
   },
   "outputs": [],
   "source": [
    "X = df_stats_normed.values\n",
    "n_clusters = 3\n",
    "batch_size = 45\n",
    "order = range(n_clusters)"
   ]
  },
  {
   "cell_type": "code",
   "execution_count": 62,
   "metadata": {
    "collapsed": true
   },
   "outputs": [],
   "source": [
    "pca = PCA(n_components=2, svd_solver='full')\n",
    "X = pca.fit_transform(X)"
   ]
  },
  {
   "cell_type": "code",
   "execution_count": 63,
   "metadata": {
    "collapsed": false
   },
   "outputs": [
    {
     "data": {
      "text/plain": [
       "MiniBatchKMeans(batch_size=45, compute_labels=True, init='k-means++',\n",
       "        init_size=None, max_iter=100, max_no_improvement=10, n_clusters=3,\n",
       "        n_init=10, random_state=None, reassignment_ratio=0.01, tol=0.0,\n",
       "        verbose=0)"
      ]
     },
     "execution_count": 63,
     "metadata": {},
     "output_type": "execute_result"
    }
   ],
   "source": [
    "mbk = MiniBatchKMeans(init='k-means++', n_clusters=3, batch_size=batch_size,\n",
    "                      n_init=10, max_no_improvement=10, verbose=0)\n",
    "\n",
    "mbk.fit(pca.fit_transform(X))"
   ]
  },
  {
   "cell_type": "code",
   "execution_count": 64,
   "metadata": {
    "collapsed": false
   },
   "outputs": [],
   "source": [
    "from matplotlib.pyplot import cm \n",
    "colors = cm.rainbow(np.linspace(0,1,n_clusters))"
   ]
  },
  {
   "cell_type": "code",
   "execution_count": 66,
   "metadata": {
    "collapsed": false
   },
   "outputs": [
    {
     "data": {
      "image/png": "[encoded data removed]",
      "text/plain": [
       "<matplotlib.figure.Figure at 0x10d7b8f10>"
      ]
     },
     "metadata": {},
     "output_type": "display_data"
    }
   ],
   "source": [
    "fig = plt.figure(figsize=(5, 5))\n",
    "fig.subplots_adjust(left=0.02, right=0.98, bottom=0.05, top=0.9)\n",
    "\n",
    "# We want to have the same colors for the same cluster from the\n",
    "# MiniBatchKMeans and the KMeans algorithm. Let's pair the cluster centers per\n",
    "# closest one.\n",
    "\n",
    "mbk_means_cluster_centers = np.sort(mbk.cluster_centers_, axis=0)\n",
    "mbk_means_labels = pairwise_distances_argmin(X, mbk_means_cluster_centers)\n",
    "\n",
    "# MiniBatchKMeans\n",
    "ax = fig.add_subplot(1, 1, 1)\n",
    "for k, col in zip(range(n_clusters), colors):\n",
    "    my_members = mbk_means_labels == order[k]\n",
    "    cluster_center = mbk_means_cluster_centers[order[k]]\n",
    "    ax.plot(X[my_members, 0], X[my_members, 1], 'w',\n",
    "            markerfacecolor=col, marker='.')\n",
    "    ax.plot(cluster_center[0], cluster_center[1], 'o', markerfacecolor=col,\n",
    "            markeredgecolor='k', markersize=6)\n",
    "ax.set_title('MiniBatchKMeans')\n",
    "ax.set_xticks(())\n",
    "ax.set_yticks(())\n",
    "plt.show()"
   ]
  },
  {
   "cell_type": "code",
   "execution_count": 39,
   "metadata": {
    "collapsed": false
   },
   "outputs": [
    {
     "data": {
      "text/plain": [
       "array([2, 2, 2, ..., 1, 2, 2])"
      ]
     },
     "execution_count": 39,
     "metadata": {},
     "output_type": "execute_result"
    }
   ],
   "source": []
  },
  {
   "cell_type": "code",
   "execution_count": null,
   "metadata": {
    "collapsed": true
   },
   "outputs": [],
   "source": []
  }
 ],
 "metadata": {
  "kernelspec": {
   "display_name": "Python 2",
   "language": "python",
   "name": "python2"
  },
  "language_info": {
   "codemirror_mode": {
    "name": "ipython",
    "version": 2
   },
   "file_extension": ".py",
   "mimetype": "text/x-python",
   "name": "python",
   "nbconvert_exporter": "python",
   "pygments_lexer": "ipython2",
   "version": "2.7.13"
  }
 },
 "nbformat": 4,
 "nbformat_minor": 1
}
