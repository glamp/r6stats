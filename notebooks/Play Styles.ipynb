{
 "cells": [
  {
   "cell_type": "code",
   "execution_count": 10,
   "metadata": {
    "collapsed": true
   },
   "outputs": [],
   "source": [
    "import sys\n",
    "import os\n",
    "import numpy as np\n",
    "import pandas as pd\n",
    "import matplotlib.pyplot as plt"
   ]
  },
  {
   "cell_type": "code",
   "execution_count": 11,
   "metadata": {
    "collapsed": false
   },
   "outputs": [],
   "source": [
    "sys.path.append(\"../utils/\")"
   ]
  },
  {
   "cell_type": "code",
   "execution_count": 12,
   "metadata": {
    "collapsed": false
   },
   "outputs": [],
   "source": [
    "from utils import r6io\n",
    "from utils import features\n",
    "from utils import plotting"
   ]
  },
  {
   "cell_type": "code",
   "execution_count": 13,
   "metadata": {
    "collapsed": true
   },
   "outputs": [],
   "source": [
    "pd.options.display.float_format = '{:.4f}'.format"
   ]
  },
  {
   "cell_type": "code",
   "execution_count": 14,
   "metadata": {
    "collapsed": true
   },
   "outputs": [],
   "source": [
    "df = r6io.read_player_csv('../data/leaderboard-pages.csv', 'ps4', **{\"nrows\": 10000})\n",
    "df = df.reset_index()"
   ]
  },
  {
   "cell_type": "code",
   "execution_count": 15,
   "metadata": {
    "collapsed": false
   },
   "outputs": [],
   "source": [
    "numbers = features.columns_for_stats(df)"
   ]
  },
  {
   "cell_type": "code",
   "execution_count": 16,
   "metadata": {
    "collapsed": false
   },
   "outputs": [],
   "source": [
    "df_stats = df[numbers].copy().fillna(0)"
   ]
  },
  {
   "cell_type": "code",
   "execution_count": 17,
   "metadata": {
    "collapsed": false
   },
   "outputs": [
    {
     "data": {
      "text/html": [
       "<div>\n",
       "<table border=\"1\" class=\"dataframe\">\n",
       "  <thead>\n",
       "    <tr style=\"text-align: right;\">\n",
       "      <th></th>\n",
       "      <th>0</th>\n",
       "    </tr>\n",
       "  </thead>\n",
       "  <tbody>\n",
       "    <tr>\n",
       "      <th>stats.progression.level</th>\n",
       "      <td>99.0000</td>\n",
       "    </tr>\n",
       "    <tr>\n",
       "      <th>stats.progression.xp</th>\n",
       "      <td>38485.0000</td>\n",
       "    </tr>\n",
       "    <tr>\n",
       "      <th>stats.overall.assists</th>\n",
       "      <td>557.0000</td>\n",
       "    </tr>\n",
       "    <tr>\n",
       "      <th>stats.overall.barricades_built</th>\n",
       "      <td>1084.0000</td>\n",
       "    </tr>\n",
       "    <tr>\n",
       "      <th>stats.overall.bullets_fired</th>\n",
       "      <td>92244.0000</td>\n",
       "    </tr>\n",
       "    <tr>\n",
       "      <th>stats.overall.bullets_hit</th>\n",
       "      <td>19630.0000</td>\n",
       "    </tr>\n",
       "    <tr>\n",
       "      <th>stats.overall.headshots</th>\n",
       "      <td>702.0000</td>\n",
       "    </tr>\n",
       "    <tr>\n",
       "      <th>stats.overall.melee_kills</th>\n",
       "      <td>56.0000</td>\n",
       "    </tr>\n",
       "    <tr>\n",
       "      <th>stats.overall.penetration_kills</th>\n",
       "      <td>177.0000</td>\n",
       "    </tr>\n",
       "    <tr>\n",
       "      <th>stats.overall.reinforcements_deployed</th>\n",
       "      <td>2316.0000</td>\n",
       "    </tr>\n",
       "    <tr>\n",
       "      <th>stats.overall.revives</th>\n",
       "      <td>122.0000</td>\n",
       "    </tr>\n",
       "    <tr>\n",
       "      <th>stats.overall.steps_moved</th>\n",
       "      <td>4390203.0000</td>\n",
       "    </tr>\n",
       "    <tr>\n",
       "      <th>stats.overall.suicides</th>\n",
       "      <td>11.0000</td>\n",
       "    </tr>\n",
       "    <tr>\n",
       "      <th>stats.casual.deaths</th>\n",
       "      <td>777.0000</td>\n",
       "    </tr>\n",
       "    <tr>\n",
       "      <th>stats.casual.kd</th>\n",
       "      <td>1.4860</td>\n",
       "    </tr>\n",
       "    <tr>\n",
       "      <th>stats.casual.kills</th>\n",
       "      <td>1155.0000</td>\n",
       "    </tr>\n",
       "    <tr>\n",
       "      <th>stats.casual.losses</th>\n",
       "      <td>133.0000</td>\n",
       "    </tr>\n",
       "    <tr>\n",
       "      <th>stats.casual.playtime</th>\n",
       "      <td>291203.0000</td>\n",
       "    </tr>\n",
       "    <tr>\n",
       "      <th>stats.casual.wins</th>\n",
       "      <td>221.0000</td>\n",
       "    </tr>\n",
       "    <tr>\n",
       "      <th>stats.casual.wlr</th>\n",
       "      <td>1.6620</td>\n",
       "    </tr>\n",
       "    <tr>\n",
       "      <th>stats.ranked.deaths</th>\n",
       "      <td>631.0000</td>\n",
       "    </tr>\n",
       "    <tr>\n",
       "      <th>stats.ranked.kd</th>\n",
       "      <td>1.6530</td>\n",
       "    </tr>\n",
       "    <tr>\n",
       "      <th>stats.ranked.kills</th>\n",
       "      <td>1043.0000</td>\n",
       "    </tr>\n",
       "    <tr>\n",
       "      <th>stats.ranked.losses</th>\n",
       "      <td>75.0000</td>\n",
       "    </tr>\n",
       "    <tr>\n",
       "      <th>stats.ranked.playtime</th>\n",
       "      <td>217377.0000</td>\n",
       "    </tr>\n",
       "    <tr>\n",
       "      <th>stats.ranked.wins</th>\n",
       "      <td>112.0000</td>\n",
       "    </tr>\n",
       "    <tr>\n",
       "      <th>stats.ranked.wlr</th>\n",
       "      <td>1.4930</td>\n",
       "    </tr>\n",
       "  </tbody>\n",
       "</table>\n",
       "</div>"
      ],
      "text/plain": [
       "                                                 0\n",
       "stats.progression.level                    99.0000\n",
       "stats.progression.xp                    38485.0000\n",
       "stats.overall.assists                     557.0000\n",
       "stats.overall.barricades_built           1084.0000\n",
       "stats.overall.bullets_fired             92244.0000\n",
       "stats.overall.bullets_hit               19630.0000\n",
       "stats.overall.headshots                   702.0000\n",
       "stats.overall.melee_kills                  56.0000\n",
       "stats.overall.penetration_kills           177.0000\n",
       "stats.overall.reinforcements_deployed    2316.0000\n",
       "stats.overall.revives                     122.0000\n",
       "stats.overall.steps_moved             4390203.0000\n",
       "stats.overall.suicides                     11.0000\n",
       "stats.casual.deaths                       777.0000\n",
       "stats.casual.kd                             1.4860\n",
       "stats.casual.kills                       1155.0000\n",
       "stats.casual.losses                       133.0000\n",
       "stats.casual.playtime                  291203.0000\n",
       "stats.casual.wins                         221.0000\n",
       "stats.casual.wlr                            1.6620\n",
       "stats.ranked.deaths                       631.0000\n",
       "stats.ranked.kd                             1.6530\n",
       "stats.ranked.kills                       1043.0000\n",
       "stats.ranked.losses                        75.0000\n",
       "stats.ranked.playtime                  217377.0000\n",
       "stats.ranked.wins                         112.0000\n",
       "stats.ranked.wlr                            1.4930"
      ]
     },
     "execution_count": 17,
     "metadata": {},
     "output_type": "execute_result"
    }
   ],
   "source": [
    "df_stats.head(1).T"
   ]
  },
  {
   "cell_type": "code",
   "execution_count": 18,
   "metadata": {
    "collapsed": false
   },
   "outputs": [],
   "source": [
    "df_stats['stats.overall.playtime'] = features.calc_total_playtime(df_stats)"
   ]
  },
  {
   "cell_type": "code",
   "execution_count": 132,
   "metadata": {
    "collapsed": false
   },
   "outputs": [
    {
     "data": {
      "image/png": "[encoded data removed]",
      "text/plain": [
       "<matplotlib.figure.Figure at 0x10ed7d210>"
      ]
     },
     "metadata": {},
     "output_type": "display_data"
    }
   ],
   "source": [
    "X = df_stats['stats.overall.playtime'].replace(np.inf, 0)\n",
    "fig = plt.figure(figsize=(13,4), dpi=100)\n",
    "\n",
    "plt.subplot(1, 2, 1)\n",
    "plt.hist(X, bins='auto', label=X.name)\n",
    "plt.legend(loc='upper right')\n",
    "\n",
    "plt.subplot(1, 2, 2)\n",
    "plt.hist(np.log(X), bins='auto', label=\"log({})\".format(X.name))\n",
    "plt.legend(loc='upper left')\n",
    "\n",
    "plt.show()"
   ]
  },
  {
   "cell_type": "code",
   "execution_count": null,
   "metadata": {
    "collapsed": true
   },
   "outputs": [],
   "source": []
  }
 ],
 "metadata": {
  "kernelspec": {
   "display_name": "Python 2",
   "language": "python",
   "name": "python2"
  },
  "language_info": {
   "codemirror_mode": {
    "name": "ipython",
    "version": 2
   },
   "file_extension": ".py",
   "mimetype": "text/x-python",
   "name": "python",
   "nbconvert_exporter": "python",
   "pygments_lexer": "ipython2",
   "version": "2.7.13"
  }
 },
 "nbformat": 4,
 "nbformat_minor": 1
}
