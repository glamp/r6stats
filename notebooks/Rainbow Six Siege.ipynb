{
 "cells": [
  {
   "cell_type": "code",
   "execution_count": 1,
   "metadata": {
    "collapsed": true
   },
   "outputs": [],
   "source": [
    "import numpy as np\n",
    "import pandas as pd"
   ]
  },
  {
   "cell_type": "markdown",
   "metadata": {},
   "source": [
    "[Rainbow Six: Siege](https://rainbow6.ubisoft.com/siege/en-us/home/ \"Rainbow Six Siege Homepage\") is a [competitive](https://en.wikipedia.org/wiki/List_of_eSports_games \"List of eSports Games on Wikipedia\") team-based first person shooter created by [Ubisoft Montreal](https://twitter.com/UbisoftMTL \"Ubisoft Montreal on Twitter\")."
   ]
  },
  {
   "cell_type": "code",
   "execution_count": 2,
   "metadata": {
    "collapsed": false
   },
   "outputs": [
    {
     "name": "stdout",
     "output_type": "stream",
     "text": [
      "566850 rows\n",
      "40 cols\n"
     ]
    }
   ],
   "source": [
    "df = pd.read_csv(\"../data/players.csv\")\n",
    "print \"{} rows\".format(df.shape[0])\n",
    "print \"{} cols\".format(df.shape[1])"
   ]
  },
  {
   "cell_type": "code",
   "execution_count": 3,
   "metadata": {
    "collapsed": false
   },
   "outputs": [
    {
     "data": {
      "text/html": [
       "<div>\n",
       "<table border=\"1\" class=\"dataframe\">\n",
       "  <thead>\n",
       "    <tr style=\"text-align: right;\">\n",
       "      <th></th>\n",
       "      <th>0</th>\n",
       "    </tr>\n",
       "  </thead>\n",
       "  <tbody>\n",
       "    <tr>\n",
       "      <th>current_page</th>\n",
       "      <td>1</td>\n",
       "    </tr>\n",
       "    <tr>\n",
       "      <th>indexed_at</th>\n",
       "      <td>2017-03-19T14:38:46.011Z</td>\n",
       "    </tr>\n",
       "    <tr>\n",
       "      <th>next_page</th>\n",
       "      <td>2</td>\n",
       "    </tr>\n",
       "    <tr>\n",
       "      <th>platform</th>\n",
       "      <td>ps4</td>\n",
       "    </tr>\n",
       "    <tr>\n",
       "      <th>prev_page</th>\n",
       "      <td>NaN</td>\n",
       "    </tr>\n",
       "    <tr>\n",
       "      <th>stats.casual.deaths</th>\n",
       "      <td>2565</td>\n",
       "    </tr>\n",
       "    <tr>\n",
       "      <th>stats.casual.has_played</th>\n",
       "      <td>True</td>\n",
       "    </tr>\n",
       "    <tr>\n",
       "      <th>stats.casual.kd</th>\n",
       "      <td>1.25</td>\n",
       "    </tr>\n",
       "    <tr>\n",
       "      <th>stats.casual.kills</th>\n",
       "      <td>3207</td>\n",
       "    </tr>\n",
       "    <tr>\n",
       "      <th>stats.casual.losses</th>\n",
       "      <td>349</td>\n",
       "    </tr>\n",
       "    <tr>\n",
       "      <th>stats.casual.playtime</th>\n",
       "      <td>729964</td>\n",
       "    </tr>\n",
       "    <tr>\n",
       "      <th>stats.casual.wins</th>\n",
       "      <td>600</td>\n",
       "    </tr>\n",
       "    <tr>\n",
       "      <th>stats.casual.wlr</th>\n",
       "      <td>1.719</td>\n",
       "    </tr>\n",
       "    <tr>\n",
       "      <th>stats.overall.assists</th>\n",
       "      <td>1439</td>\n",
       "    </tr>\n",
       "    <tr>\n",
       "      <th>stats.overall.barricades_built</th>\n",
       "      <td>1792</td>\n",
       "    </tr>\n",
       "    <tr>\n",
       "      <th>stats.overall.bullets_fired</th>\n",
       "      <td>195512</td>\n",
       "    </tr>\n",
       "    <tr>\n",
       "      <th>stats.overall.bullets_hit</th>\n",
       "      <td>42238</td>\n",
       "    </tr>\n",
       "    <tr>\n",
       "      <th>stats.overall.headshots</th>\n",
       "      <td>1648</td>\n",
       "    </tr>\n",
       "    <tr>\n",
       "      <th>stats.overall.melee_kills</th>\n",
       "      <td>214</td>\n",
       "    </tr>\n",
       "    <tr>\n",
       "      <th>stats.overall.penetration_kills</th>\n",
       "      <td>296</td>\n",
       "    </tr>\n",
       "    <tr>\n",
       "      <th>stats.overall.reinforcements_deployed</th>\n",
       "      <td>3190</td>\n",
       "    </tr>\n",
       "    <tr>\n",
       "      <th>stats.overall.revives</th>\n",
       "      <td>316</td>\n",
       "    </tr>\n",
       "    <tr>\n",
       "      <th>stats.overall.steps_moved</th>\n",
       "      <td>1.18527e+09</td>\n",
       "    </tr>\n",
       "    <tr>\n",
       "      <th>stats.overall.suicides</th>\n",
       "      <td>42</td>\n",
       "    </tr>\n",
       "    <tr>\n",
       "      <th>stats.progression.level</th>\n",
       "      <td>153</td>\n",
       "    </tr>\n",
       "    <tr>\n",
       "      <th>stats.progression.xp</th>\n",
       "      <td>1940</td>\n",
       "    </tr>\n",
       "    <tr>\n",
       "      <th>stats.ranked.deaths</th>\n",
       "      <td>1956</td>\n",
       "    </tr>\n",
       "    <tr>\n",
       "      <th>stats.ranked.has_played</th>\n",
       "      <td>True</td>\n",
       "    </tr>\n",
       "    <tr>\n",
       "      <th>stats.ranked.kd</th>\n",
       "      <td>0.964</td>\n",
       "    </tr>\n",
       "    <tr>\n",
       "      <th>stats.ranked.kills</th>\n",
       "      <td>1885</td>\n",
       "    </tr>\n",
       "    <tr>\n",
       "      <th>stats.ranked.losses</th>\n",
       "      <td>219</td>\n",
       "    </tr>\n",
       "    <tr>\n",
       "      <th>stats.ranked.playtime</th>\n",
       "      <td>598062</td>\n",
       "    </tr>\n",
       "    <tr>\n",
       "      <th>stats.ranked.wins</th>\n",
       "      <td>280</td>\n",
       "    </tr>\n",
       "    <tr>\n",
       "      <th>stats.ranked.wlr</th>\n",
       "      <td>1.279</td>\n",
       "    </tr>\n",
       "    <tr>\n",
       "      <th>total_count</th>\n",
       "      <td>191671</td>\n",
       "    </tr>\n",
       "    <tr>\n",
       "      <th>total_pages</th>\n",
       "      <td>7667</td>\n",
       "    </tr>\n",
       "    <tr>\n",
       "      <th>ubisoft_id</th>\n",
       "      <td>2ac243b5-7978-4578-891d-6cc40ec89cfd</td>\n",
       "    </tr>\n",
       "    <tr>\n",
       "      <th>updated_at</th>\n",
       "      <td>2017-03-19T14:38:46.011Z</td>\n",
       "    </tr>\n",
       "    <tr>\n",
       "      <th>url</th>\n",
       "      <td>NaN</td>\n",
       "    </tr>\n",
       "    <tr>\n",
       "      <th>username</th>\n",
       "      <td>LeoHJM</td>\n",
       "    </tr>\n",
       "  </tbody>\n",
       "</table>\n",
       "</div>"
      ],
      "text/plain": [
       "                                                                          0\n",
       "current_page                                                              1\n",
       "indexed_at                                         2017-03-19T14:38:46.011Z\n",
       "next_page                                                                 2\n",
       "platform                                                                ps4\n",
       "prev_page                                                               NaN\n",
       "stats.casual.deaths                                                    2565\n",
       "stats.casual.has_played                                                True\n",
       "stats.casual.kd                                                        1.25\n",
       "stats.casual.kills                                                     3207\n",
       "stats.casual.losses                                                     349\n",
       "stats.casual.playtime                                                729964\n",
       "stats.casual.wins                                                       600\n",
       "stats.casual.wlr                                                      1.719\n",
       "stats.overall.assists                                                  1439\n",
       "stats.overall.barricades_built                                         1792\n",
       "stats.overall.bullets_fired                                          195512\n",
       "stats.overall.bullets_hit                                             42238\n",
       "stats.overall.headshots                                                1648\n",
       "stats.overall.melee_kills                                               214\n",
       "stats.overall.penetration_kills                                         296\n",
       "stats.overall.reinforcements_deployed                                  3190\n",
       "stats.overall.revives                                                   316\n",
       "stats.overall.steps_moved                                       1.18527e+09\n",
       "stats.overall.suicides                                                   42\n",
       "stats.progression.level                                                 153\n",
       "stats.progression.xp                                                   1940\n",
       "stats.ranked.deaths                                                    1956\n",
       "stats.ranked.has_played                                                True\n",
       "stats.ranked.kd                                                       0.964\n",
       "stats.ranked.kills                                                     1885\n",
       "stats.ranked.losses                                                     219\n",
       "stats.ranked.playtime                                                598062\n",
       "stats.ranked.wins                                                       280\n",
       "stats.ranked.wlr                                                      1.279\n",
       "total_count                                                          191671\n",
       "total_pages                                                            7667\n",
       "ubisoft_id                             2ac243b5-7978-4578-891d-6cc40ec89cfd\n",
       "updated_at                                         2017-03-19T14:38:46.011Z\n",
       "url                                                                     NaN\n",
       "username                                                             LeoHJM"
      ]
     },
     "execution_count": 3,
     "metadata": {},
     "output_type": "execute_result"
    }
   ],
   "source": [
    "df.head(1).T"
   ]
  },
  {
   "cell_type": "code",
   "execution_count": 4,
   "metadata": {
    "collapsed": false
   },
   "outputs": [
    {
     "data": {
      "text/html": [
       "<div>\n",
       "<table border=\"1\" class=\"dataframe\">\n",
       "  <thead>\n",
       "    <tr style=\"text-align: right;\">\n",
       "      <th></th>\n",
       "      <th>0</th>\n",
       "    </tr>\n",
       "  </thead>\n",
       "  <tbody>\n",
       "    <tr>\n",
       "      <th>stats.casual.deaths</th>\n",
       "      <td>2565</td>\n",
       "    </tr>\n",
       "    <tr>\n",
       "      <th>stats.casual.has_played</th>\n",
       "      <td>True</td>\n",
       "    </tr>\n",
       "    <tr>\n",
       "      <th>stats.casual.kd</th>\n",
       "      <td>1.25</td>\n",
       "    </tr>\n",
       "    <tr>\n",
       "      <th>stats.casual.kills</th>\n",
       "      <td>3207</td>\n",
       "    </tr>\n",
       "    <tr>\n",
       "      <th>stats.casual.losses</th>\n",
       "      <td>349</td>\n",
       "    </tr>\n",
       "    <tr>\n",
       "      <th>stats.casual.playtime</th>\n",
       "      <td>729964</td>\n",
       "    </tr>\n",
       "    <tr>\n",
       "      <th>stats.casual.wins</th>\n",
       "      <td>600</td>\n",
       "    </tr>\n",
       "    <tr>\n",
       "      <th>stats.casual.wlr</th>\n",
       "      <td>1.719</td>\n",
       "    </tr>\n",
       "    <tr>\n",
       "      <th>stats.overall.assists</th>\n",
       "      <td>1439</td>\n",
       "    </tr>\n",
       "    <tr>\n",
       "      <th>stats.overall.barricades_built</th>\n",
       "      <td>1792</td>\n",
       "    </tr>\n",
       "    <tr>\n",
       "      <th>stats.overall.bullets_fired</th>\n",
       "      <td>195512</td>\n",
       "    </tr>\n",
       "    <tr>\n",
       "      <th>stats.overall.bullets_hit</th>\n",
       "      <td>42238</td>\n",
       "    </tr>\n",
       "    <tr>\n",
       "      <th>stats.overall.headshots</th>\n",
       "      <td>1648</td>\n",
       "    </tr>\n",
       "    <tr>\n",
       "      <th>stats.overall.melee_kills</th>\n",
       "      <td>214</td>\n",
       "    </tr>\n",
       "    <tr>\n",
       "      <th>stats.overall.penetration_kills</th>\n",
       "      <td>296</td>\n",
       "    </tr>\n",
       "    <tr>\n",
       "      <th>stats.overall.reinforcements_deployed</th>\n",
       "      <td>3190</td>\n",
       "    </tr>\n",
       "    <tr>\n",
       "      <th>stats.overall.revives</th>\n",
       "      <td>316</td>\n",
       "    </tr>\n",
       "    <tr>\n",
       "      <th>stats.overall.steps_moved</th>\n",
       "      <td>1.18527e+09</td>\n",
       "    </tr>\n",
       "    <tr>\n",
       "      <th>stats.overall.suicides</th>\n",
       "      <td>42</td>\n",
       "    </tr>\n",
       "    <tr>\n",
       "      <th>stats.progression.level</th>\n",
       "      <td>153</td>\n",
       "    </tr>\n",
       "    <tr>\n",
       "      <th>stats.progression.xp</th>\n",
       "      <td>1940</td>\n",
       "    </tr>\n",
       "    <tr>\n",
       "      <th>stats.ranked.deaths</th>\n",
       "      <td>1956</td>\n",
       "    </tr>\n",
       "    <tr>\n",
       "      <th>stats.ranked.has_played</th>\n",
       "      <td>True</td>\n",
       "    </tr>\n",
       "    <tr>\n",
       "      <th>stats.ranked.kd</th>\n",
       "      <td>0.964</td>\n",
       "    </tr>\n",
       "    <tr>\n",
       "      <th>stats.ranked.kills</th>\n",
       "      <td>1885</td>\n",
       "    </tr>\n",
       "    <tr>\n",
       "      <th>stats.ranked.losses</th>\n",
       "      <td>219</td>\n",
       "    </tr>\n",
       "    <tr>\n",
       "      <th>stats.ranked.playtime</th>\n",
       "      <td>598062</td>\n",
       "    </tr>\n",
       "    <tr>\n",
       "      <th>stats.ranked.wins</th>\n",
       "      <td>280</td>\n",
       "    </tr>\n",
       "    <tr>\n",
       "      <th>stats.ranked.wlr</th>\n",
       "      <td>1.279</td>\n",
       "    </tr>\n",
       "  </tbody>\n",
       "</table>\n",
       "</div>"
      ],
      "text/plain": [
       "                                                 0\n",
       "stats.casual.deaths                           2565\n",
       "stats.casual.has_played                       True\n",
       "stats.casual.kd                               1.25\n",
       "stats.casual.kills                            3207\n",
       "stats.casual.losses                            349\n",
       "stats.casual.playtime                       729964\n",
       "stats.casual.wins                              600\n",
       "stats.casual.wlr                             1.719\n",
       "stats.overall.assists                         1439\n",
       "stats.overall.barricades_built                1792\n",
       "stats.overall.bullets_fired                 195512\n",
       "stats.overall.bullets_hit                    42238\n",
       "stats.overall.headshots                       1648\n",
       "stats.overall.melee_kills                      214\n",
       "stats.overall.penetration_kills                296\n",
       "stats.overall.reinforcements_deployed         3190\n",
       "stats.overall.revives                          316\n",
       "stats.overall.steps_moved              1.18527e+09\n",
       "stats.overall.suicides                          42\n",
       "stats.progression.level                        153\n",
       "stats.progression.xp                          1940\n",
       "stats.ranked.deaths                           1956\n",
       "stats.ranked.has_played                       True\n",
       "stats.ranked.kd                              0.964\n",
       "stats.ranked.kills                            1885\n",
       "stats.ranked.losses                            219\n",
       "stats.ranked.playtime                       598062\n",
       "stats.ranked.wins                              280\n",
       "stats.ranked.wlr                             1.279"
      ]
     },
     "execution_count": 4,
     "metadata": {},
     "output_type": "execute_result"
    }
   ],
   "source": [
    "stats_columns = df.columns[df.columns.str.contains('stats')]\n",
    "df_stats = df[stats_columns]\n",
    "df_stats.head(1).T"
   ]
  },
  {
   "cell_type": "code",
   "execution_count": 5,
   "metadata": {
    "collapsed": false
   },
   "outputs": [
    {
     "name": "stdout",
     "output_type": "stream",
     "text": [
      "11194 ps4 players\n",
      "4068 pc players\n",
      "4738 xbox players\n"
     ]
    }
   ],
   "source": [
    "df = df.head(20000)\n",
    "df_ps4 = df[df.platform=='ps4']\n",
    "df_pc = df[df.platform=='uplay']\n",
    "df_xbox = df[df.platform=='xone']\n",
    "\n",
    "print \"{} ps4 players\".format(len(df_ps4))\n",
    "print \"{} pc players\".format(len(df_pc))\n",
    "print \"{} xbox players\".format(len(df_xbox))"
   ]
  },
  {
   "cell_type": "code",
   "execution_count": null,
   "metadata": {
    "collapsed": true
   },
   "outputs": [],
   "source": []
  },
  {
   "cell_type": "code",
   "execution_count": 6,
   "metadata": {
    "collapsed": false
   },
   "outputs": [],
   "source": [
    "features = ['stats.ranked.kd', 'stats.casual.kd', 'stats.casual.wlr', 'stats.casual.kd']"
   ]
  },
  {
   "cell_type": "code",
   "execution_count": 7,
   "metadata": {
    "collapsed": false
   },
   "outputs": [
    {
     "data": {
      "text/html": [
       "<div>\n",
       "<table border=\"1\" class=\"dataframe\">\n",
       "  <thead>\n",
       "    <tr style=\"text-align: right;\">\n",
       "      <th></th>\n",
       "      <th>stats.ranked.kd</th>\n",
       "      <th>stats.casual.kd</th>\n",
       "      <th>stats.casual.wlr</th>\n",
       "      <th>stats.casual.kd</th>\n",
       "    </tr>\n",
       "  </thead>\n",
       "  <tbody>\n",
       "    <tr>\n",
       "      <th>0</th>\n",
       "      <td>0.964</td>\n",
       "      <td>1.250</td>\n",
       "      <td>1.719</td>\n",
       "      <td>1.250</td>\n",
       "    </tr>\n",
       "    <tr>\n",
       "      <th>1</th>\n",
       "      <td>1.306</td>\n",
       "      <td>1.517</td>\n",
       "      <td>1.554</td>\n",
       "      <td>1.517</td>\n",
       "    </tr>\n",
       "    <tr>\n",
       "      <th>2</th>\n",
       "      <td>0.911</td>\n",
       "      <td>1.204</td>\n",
       "      <td>1.762</td>\n",
       "      <td>1.204</td>\n",
       "    </tr>\n",
       "    <tr>\n",
       "      <th>3</th>\n",
       "      <td>0.981</td>\n",
       "      <td>0.941</td>\n",
       "      <td>1.072</td>\n",
       "      <td>0.941</td>\n",
       "    </tr>\n",
       "    <tr>\n",
       "      <th>4</th>\n",
       "      <td>1.120</td>\n",
       "      <td>0.914</td>\n",
       "      <td>1.333</td>\n",
       "      <td>0.914</td>\n",
       "    </tr>\n",
       "  </tbody>\n",
       "</table>\n",
       "</div>"
      ],
      "text/plain": [
       "   stats.ranked.kd  stats.casual.kd  stats.casual.wlr  stats.casual.kd\n",
       "0            0.964            1.250             1.719            1.250\n",
       "1            1.306            1.517             1.554            1.517\n",
       "2            0.911            1.204             1.762            1.204\n",
       "3            0.981            0.941             1.072            0.941\n",
       "4            1.120            0.914             1.333            0.914"
      ]
     },
     "execution_count": 7,
     "metadata": {},
     "output_type": "execute_result"
    }
   ],
   "source": [
    "df[features].head()"
   ]
  },
  {
   "cell_type": "code",
   "execution_count": 8,
   "metadata": {
    "collapsed": true
   },
   "outputs": [],
   "source": [
    "import matplotlib.pyplot as plt"
   ]
  },
  {
   "cell_type": "code",
   "execution_count": 9,
   "metadata": {
    "collapsed": false
   },
   "outputs": [],
   "source": [
    "import os\n",
    "import sys\n",
    "sys.path.append(\"../radarchart/\")\n",
    "from radarchart import RadarChart"
   ]
  },
  {
   "cell_type": "code",
   "execution_count": 10,
   "metadata": {
    "collapsed": false
   },
   "outputs": [],
   "source": [
    "radar = RadarChart(plt.figure(figsize=(6, 6)), ['A','B','C','D', 'E'])\n",
    "radar.plot([1, 3, 2, 5, 4],  \"-\", lw=2, color=\"b\", alpha=0.4, label=\"first\")\n",
    "radar.plot([2.3, 2, 3, 3, 2],\"-\", lw=2, color=\"r\", alpha=0.4, label=\"second\")\n",
    "radar.plot([3, 4, 3, 4, 2], \"-\", lw=2, color=\"g\", alpha=0.4, label=\"third\")"
   ]
  },
  {
   "cell_type": "code",
   "execution_count": 11,
   "metadata": {
    "collapsed": false
   },
   "outputs": [
    {
     "data": {
      "image/png": "[encoded data removed]",
      "text/plain": [
       "<matplotlib.figure.Figure at 0x10edcbbd0>"
      ]
     },
     "metadata": {},
     "output_type": "display_data"
    }
   ],
   "source": [
    "radar.show()"
   ]
  },
  {
   "cell_type": "code",
   "execution_count": 12,
   "metadata": {
    "collapsed": true
   },
   "outputs": [],
   "source": [
    "def shots_fired(player):\n",
    "    stats_overall_assists = player['stats.overall.assists']\n",
    "    stats_overall_barricades_built = player['stats.overall.barricades_built']\n",
    "    stats_overall_bullets_fired = player['stats.overall.bullets_fired']\n",
    "    stats_overall_bullets_hit = player['stats.overall.bullets_hit']\n",
    "    stats_overall_headshots = player['stats.overall.headshots']\n",
    "    stats_overall_melee_kills = player['stats.overall.melee_kills']\n",
    "    stats_overall_penetration_kills = player['stats.overall.penetration_kills']\n",
    "    stats_overall_reinforcements_deployed = player['stats.overall.reinforcements_deployed']\n",
    "    stats_overall_revives = player['stats.overall.revives']\n",
    "    stats_overall_steps_moved = player['stats.overall.steps_moved']\n",
    "    stats_overall_suicides = player['stats.overall.suicides']\n",
    "    return []"
   ]
  },
  {
   "cell_type": "code",
   "execution_count": 13,
   "metadata": {
    "collapsed": false
   },
   "outputs": [
    {
     "data": {
      "text/html": [
       "<div>\n",
       "<table border=\"1\" class=\"dataframe\">\n",
       "  <thead>\n",
       "    <tr style=\"text-align: right;\">\n",
       "      <th></th>\n",
       "      <th>0</th>\n",
       "    </tr>\n",
       "  </thead>\n",
       "  <tbody>\n",
       "    <tr>\n",
       "      <th>current_page</th>\n",
       "      <td>1</td>\n",
       "    </tr>\n",
       "    <tr>\n",
       "      <th>indexed_at</th>\n",
       "      <td>2017-03-19T14:38:46.011Z</td>\n",
       "    </tr>\n",
       "    <tr>\n",
       "      <th>next_page</th>\n",
       "      <td>2</td>\n",
       "    </tr>\n",
       "    <tr>\n",
       "      <th>platform</th>\n",
       "      <td>ps4</td>\n",
       "    </tr>\n",
       "    <tr>\n",
       "      <th>prev_page</th>\n",
       "      <td>NaN</td>\n",
       "    </tr>\n",
       "    <tr>\n",
       "      <th>stats.casual.deaths</th>\n",
       "      <td>2565</td>\n",
       "    </tr>\n",
       "    <tr>\n",
       "      <th>stats.casual.has_played</th>\n",
       "      <td>True</td>\n",
       "    </tr>\n",
       "    <tr>\n",
       "      <th>stats.casual.kd</th>\n",
       "      <td>1.25</td>\n",
       "    </tr>\n",
       "    <tr>\n",
       "      <th>stats.casual.kills</th>\n",
       "      <td>3207</td>\n",
       "    </tr>\n",
       "    <tr>\n",
       "      <th>stats.casual.losses</th>\n",
       "      <td>349</td>\n",
       "    </tr>\n",
       "    <tr>\n",
       "      <th>stats.casual.playtime</th>\n",
       "      <td>729964</td>\n",
       "    </tr>\n",
       "    <tr>\n",
       "      <th>stats.casual.wins</th>\n",
       "      <td>600</td>\n",
       "    </tr>\n",
       "    <tr>\n",
       "      <th>stats.casual.wlr</th>\n",
       "      <td>1.719</td>\n",
       "    </tr>\n",
       "    <tr>\n",
       "      <th>stats.overall.assists</th>\n",
       "      <td>1439</td>\n",
       "    </tr>\n",
       "    <tr>\n",
       "      <th>stats.overall.barricades_built</th>\n",
       "      <td>1792</td>\n",
       "    </tr>\n",
       "    <tr>\n",
       "      <th>stats.overall.bullets_fired</th>\n",
       "      <td>195512</td>\n",
       "    </tr>\n",
       "    <tr>\n",
       "      <th>stats.overall.bullets_hit</th>\n",
       "      <td>42238</td>\n",
       "    </tr>\n",
       "    <tr>\n",
       "      <th>stats.overall.headshots</th>\n",
       "      <td>1648</td>\n",
       "    </tr>\n",
       "    <tr>\n",
       "      <th>stats.overall.melee_kills</th>\n",
       "      <td>214</td>\n",
       "    </tr>\n",
       "    <tr>\n",
       "      <th>stats.overall.penetration_kills</th>\n",
       "      <td>296</td>\n",
       "    </tr>\n",
       "    <tr>\n",
       "      <th>stats.overall.reinforcements_deployed</th>\n",
       "      <td>3190</td>\n",
       "    </tr>\n",
       "    <tr>\n",
       "      <th>stats.overall.revives</th>\n",
       "      <td>316</td>\n",
       "    </tr>\n",
       "    <tr>\n",
       "      <th>stats.overall.steps_moved</th>\n",
       "      <td>1.18527e+09</td>\n",
       "    </tr>\n",
       "    <tr>\n",
       "      <th>stats.overall.suicides</th>\n",
       "      <td>42</td>\n",
       "    </tr>\n",
       "    <tr>\n",
       "      <th>stats.progression.level</th>\n",
       "      <td>153</td>\n",
       "    </tr>\n",
       "    <tr>\n",
       "      <th>stats.progression.xp</th>\n",
       "      <td>1940</td>\n",
       "    </tr>\n",
       "    <tr>\n",
       "      <th>stats.ranked.deaths</th>\n",
       "      <td>1956</td>\n",
       "    </tr>\n",
       "    <tr>\n",
       "      <th>stats.ranked.has_played</th>\n",
       "      <td>True</td>\n",
       "    </tr>\n",
       "    <tr>\n",
       "      <th>stats.ranked.kd</th>\n",
       "      <td>0.964</td>\n",
       "    </tr>\n",
       "    <tr>\n",
       "      <th>stats.ranked.kills</th>\n",
       "      <td>1885</td>\n",
       "    </tr>\n",
       "    <tr>\n",
       "      <th>stats.ranked.losses</th>\n",
       "      <td>219</td>\n",
       "    </tr>\n",
       "    <tr>\n",
       "      <th>stats.ranked.playtime</th>\n",
       "      <td>598062</td>\n",
       "    </tr>\n",
       "    <tr>\n",
       "      <th>stats.ranked.wins</th>\n",
       "      <td>280</td>\n",
       "    </tr>\n",
       "    <tr>\n",
       "      <th>stats.ranked.wlr</th>\n",
       "      <td>1.279</td>\n",
       "    </tr>\n",
       "    <tr>\n",
       "      <th>total_count</th>\n",
       "      <td>191671</td>\n",
       "    </tr>\n",
       "    <tr>\n",
       "      <th>total_pages</th>\n",
       "      <td>7667</td>\n",
       "    </tr>\n",
       "    <tr>\n",
       "      <th>ubisoft_id</th>\n",
       "      <td>2ac243b5-7978-4578-891d-6cc40ec89cfd</td>\n",
       "    </tr>\n",
       "    <tr>\n",
       "      <th>updated_at</th>\n",
       "      <td>2017-03-19T14:38:46.011Z</td>\n",
       "    </tr>\n",
       "    <tr>\n",
       "      <th>url</th>\n",
       "      <td>NaN</td>\n",
       "    </tr>\n",
       "    <tr>\n",
       "      <th>username</th>\n",
       "      <td>LeoHJM</td>\n",
       "    </tr>\n",
       "  </tbody>\n",
       "</table>\n",
       "</div>"
      ],
      "text/plain": [
       "                                                                          0\n",
       "current_page                                                              1\n",
       "indexed_at                                         2017-03-19T14:38:46.011Z\n",
       "next_page                                                                 2\n",
       "platform                                                                ps4\n",
       "prev_page                                                               NaN\n",
       "stats.casual.deaths                                                    2565\n",
       "stats.casual.has_played                                                True\n",
       "stats.casual.kd                                                        1.25\n",
       "stats.casual.kills                                                     3207\n",
       "stats.casual.losses                                                     349\n",
       "stats.casual.playtime                                                729964\n",
       "stats.casual.wins                                                       600\n",
       "stats.casual.wlr                                                      1.719\n",
       "stats.overall.assists                                                  1439\n",
       "stats.overall.barricades_built                                         1792\n",
       "stats.overall.bullets_fired                                          195512\n",
       "stats.overall.bullets_hit                                             42238\n",
       "stats.overall.headshots                                                1648\n",
       "stats.overall.melee_kills                                               214\n",
       "stats.overall.penetration_kills                                         296\n",
       "stats.overall.reinforcements_deployed                                  3190\n",
       "stats.overall.revives                                                   316\n",
       "stats.overall.steps_moved                                       1.18527e+09\n",
       "stats.overall.suicides                                                   42\n",
       "stats.progression.level                                                 153\n",
       "stats.progression.xp                                                   1940\n",
       "stats.ranked.deaths                                                    1956\n",
       "stats.ranked.has_played                                                True\n",
       "stats.ranked.kd                                                       0.964\n",
       "stats.ranked.kills                                                     1885\n",
       "stats.ranked.losses                                                     219\n",
       "stats.ranked.playtime                                                598062\n",
       "stats.ranked.wins                                                       280\n",
       "stats.ranked.wlr                                                      1.279\n",
       "total_count                                                          191671\n",
       "total_pages                                                            7667\n",
       "ubisoft_id                             2ac243b5-7978-4578-891d-6cc40ec89cfd\n",
       "updated_at                                         2017-03-19T14:38:46.011Z\n",
       "url                                                                     NaN\n",
       "username                                                             LeoHJM"
      ]
     },
     "execution_count": 13,
     "metadata": {},
     "output_type": "execute_result"
    }
   ],
   "source": [
    "df.head(1).T"
   ]
  },
  {
   "cell_type": "code",
   "execution_count": 14,
   "metadata": {
    "collapsed": true
   },
   "outputs": [],
   "source": [
    "def add_prop(group, column):\n",
    "    value = group[column].astype(float)\n",
    "    group['prop_{}'.format(column)] = value / value.sum()\n",
    "    return group"
   ]
  },
  {
   "cell_type": "code",
   "execution_count": 50,
   "metadata": {
    "collapsed": true
   },
   "outputs": [],
   "source": [
    "def select_stats_for(frame, platform, game_mode):\n",
    "    stats_columns = frame.columns[\n",
    "        (frame.columns.str.startswith(\"stats.{}\".format(game_mode))) &\n",
    "        (frame.columns != \"stats.{}.playtime\".format(game_mode)) &\n",
    "        (frame.columns != \"stats.{}.has_played\".format(game_mode))\n",
    "    ]\n",
    "    return frame.ix[frame['platform'] == platform, stats_columns]"
   ]
  },
  {
   "cell_type": "code",
   "execution_count": 55,
   "metadata": {
    "collapsed": false
   },
   "outputs": [],
   "source": [
    "ps4_ranked_stats = select_stats_for(df, 'ps4', 'ranked')\n",
    "ps4_ranked_playtime = df.ix[ps4_ranked_stats.index, ['stats.ranked.playtime']]"
   ]
  },
  {
   "cell_type": "code",
   "execution_count": 25,
   "metadata": {
    "collapsed": false
   },
   "outputs": [],
   "source": [
    "from sklearn import preprocessing"
   ]
  },
  {
   "cell_type": "code",
   "execution_count": 82,
   "metadata": {
    "collapsed": false
   },
   "outputs": [
    {
     "name": "stdout",
     "output_type": "stream",
     "text": [
      "(11194, 1)\n",
      "(11194, 6)\n"
     ]
    }
   ],
   "source": [
    "print ps4_ranked_playtime.shape\n",
    "print ps4_ranked_stats.shape"
   ]
  },
  {
   "cell_type": "code",
   "execution_count": 87,
   "metadata": {
    "collapsed": false
   },
   "outputs": [],
   "source": [
    "ps4_ranked_playtime_norm = preprocessing.normalize(ps4_ranked_playtime, axis=0)\n",
    "ps4_ranked_stats_norm = preprocessing.normalize(ps4_ranked_stats, axis=0)"
   ]
  },
  {
   "cell_type": "code",
   "execution_count": 89,
   "metadata": {
    "collapsed": false
   },
   "outputs": [
    {
     "name": "stdout",
     "output_type": "stream",
     "text": [
      "(11194, 1)\n",
      "(11194, 6)\n"
     ]
    }
   ],
   "source": [
    "print ps4_ranked_playtime_norm.shape\n",
    "print ps4_ranked_stats_norm.shape"
   ]
  },
  {
   "cell_type": "code",
   "execution_count": null,
   "metadata": {
    "collapsed": true
   },
   "outputs": [],
   "source": []
  }
 ],
 "metadata": {
  "kernelspec": {
   "display_name": "Python 2",
   "language": "python",
   "name": "python2"
  },
  "language_info": {
   "codemirror_mode": {
    "name": "ipython",
    "version": 2
   },
   "file_extension": ".py",
   "mimetype": "text/x-python",
   "name": "python",
   "nbconvert_exporter": "python",
   "pygments_lexer": "ipython2",
   "version": "2.7.13"
  }
 },
 "nbformat": 4,
 "nbformat_minor": 1
}
